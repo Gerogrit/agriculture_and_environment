{
 "cells": [
  {
   "cell_type": "markdown",
   "id": "discrete-documentary",
   "metadata": {},
   "source": [
    "# To do\n",
    "- [ ] Clean up headers"
   ]
  },
  {
   "cell_type": "markdown",
   "id": "ahead-millennium",
   "metadata": {},
   "source": [
    "# Setup"
   ]
  },
  {
   "cell_type": "code",
   "execution_count": 3,
   "id": "daily-steering",
   "metadata": {},
   "outputs": [],
   "source": [
    "# For EDA and getting Data\n",
    "import pandas as pd\n",
    "import matplotlib\n",
    "import matplotlib.pyplot as plt\n",
    "import seaborn as sns\n",
    "\n",
    "# For getting Data into SQL\n",
    "import numpy as np\n",
    "import requests\n",
    "from zipfile import *\n",
    "from configdef import *\n",
    "from sqlalchemy import exc #SQLAlchemy provides a nice “Pythonic” way of interacting with databases.\n",
    "from sqlalchemy import event"
   ]
  },
  {
   "cell_type": "code",
   "execution_count": 4,
   "id": "convinced-shuttle",
   "metadata": {},
   "outputs": [
    {
     "name": "stdout",
     "output_type": "stream",
     "text": [
      "Postgres Database connection successful\n"
     ]
    }
   ],
   "source": [
    "# Establish db connection\n",
    "\n",
    "# Get connection details from configdef file into a list\n",
    "params = config(section='postgres')\n",
    "\n",
    "# Use sql alchemy to create connection to database, which is contained within the engine object\n",
    "engine = pg_engine_connection(**params)\n",
    "\n",
    "# Cleans up unnecessary database connections\n",
    "engine.dispose()"
   ]
  },
  {
   "cell_type": "markdown",
   "id": "golden-venue",
   "metadata": {},
   "source": [
    "# ifeu environment foodprint"
   ]
  },
  {
   "cell_type": "code",
   "execution_count": 33,
   "id": "greek-point",
   "metadata": {},
   "outputs": [],
   "source": [
    "df_foodprint = pd.read_table(\"data/ifeu_environment_foodprint.tsv\")"
   ]
  },
  {
   "cell_type": "markdown",
   "id": "naval-dream",
   "metadata": {},
   "source": [
    "## Getting the data into SQL"
   ]
  },
  {
   "cell_type": "code",
   "execution_count": 34,
   "id": "unable-assignment",
   "metadata": {},
   "outputs": [
    {
     "name": "stdout",
     "output_type": "stream",
     "text": [
      "<class 'pandas.core.frame.DataFrame'>\n",
      "RangeIndex: 187 entries, 0 to 186\n",
      "Data columns (total 8 columns):\n",
      " #   Column                    Non-Null Count  Dtype  \n",
      "---  ------                    --------------  -----  \n",
      " 0   food                      187 non-null    object \n",
      " 1   co2_footprint             186 non-null    float64\n",
      " 2   category                  187 non-null    object \n",
      " 3   phosphate_rock_footprint  35 non-null     float64\n",
      " 4   land_use_footprint        35 non-null     float64\n",
      " 5   water_footprint           35 non-null     object \n",
      " 6   energy_demand             34 non-null     float64\n",
      " 7   comments                  6 non-null      object \n",
      "dtypes: float64(4), object(4)\n",
      "memory usage: 11.8+ KB\n"
     ]
    }
   ],
   "source": [
    "df_foodprint.info()"
   ]
  },
  {
   "cell_type": "code",
   "execution_count": 36,
   "id": "guilty-trial",
   "metadata": {},
   "outputs": [
    {
     "data": {
      "text/plain": [
       "<sqlalchemy.engine.result.ResultProxy at 0x7f87998ac400>"
      ]
     },
     "execution_count": 36,
     "metadata": {},
     "output_type": "execute_result"
    }
   ],
   "source": [
    "engine.execute(\"CREATE TABLE IF NOT EXISTS public.agri_ifeu_foodprint (food VARCHAR, co2_footprint FLOAT, category VARCHAR, phosphate_rock_footprint float, land_use_footprint FLOAT, water_footprint VARCHAR, energy_demand FLOAT, comments VARCHAR);\")"
   ]
  },
  {
   "cell_type": "code",
   "execution_count": 37,
   "id": "broadband-tunnel",
   "metadata": {},
   "outputs": [
    {
     "name": "stdout",
     "output_type": "stream",
     "text": [
      "done uploading\n"
     ]
    }
   ],
   "source": [
    "# Specify which table within your database you want to push your data to. Here: 'agri_fao_emissions'\n",
    "# If the specified table doesn't exist yet, it will be created\n",
    "# With 'append', your data will be appended to the already existing data within the table.\n",
    "\n",
    "df_foodprint.to_sql('agri_ifeu_foodprint', engine, index=False, if_exists=\"append\", \n",
    "                  method='multi', chunksize=5000)\n",
    "print(f'done uploading')"
   ]
  },
  {
   "cell_type": "markdown",
   "id": "architectural-research",
   "metadata": {},
   "source": [
    "## EDA 1 - Getting to know the data"
   ]
  },
  {
   "cell_type": "code",
   "execution_count": 18,
   "id": "loving-employee",
   "metadata": {},
   "outputs": [
    {
     "data": {
      "text/plain": [
       "Index(['food', 'co2_footprint', 'category', 'phosphate_rock_footprint',\n",
       "       'land_use_footprint', 'water_footprint', 'energy_demand', 'comments'],\n",
       "      dtype='object')"
      ]
     },
     "execution_count": 18,
     "metadata": {},
     "output_type": "execute_result"
    }
   ],
   "source": [
    "df_foodprint.columns"
   ]
  },
  {
   "cell_type": "code",
   "execution_count": 15,
   "id": "quick-juice",
   "metadata": {},
   "outputs": [
    {
     "data": {
      "text/html": [
       "<div>\n",
       "<style scoped>\n",
       "    .dataframe tbody tr th:only-of-type {\n",
       "        vertical-align: middle;\n",
       "    }\n",
       "\n",
       "    .dataframe tbody tr th {\n",
       "        vertical-align: top;\n",
       "    }\n",
       "\n",
       "    .dataframe thead th {\n",
       "        text-align: right;\n",
       "    }\n",
       "</style>\n",
       "<table border=\"1\" class=\"dataframe\">\n",
       "  <thead>\n",
       "    <tr style=\"text-align: right;\">\n",
       "      <th></th>\n",
       "      <th>food</th>\n",
       "      <th>co2_footprint</th>\n",
       "      <th>category</th>\n",
       "      <th>phosphate_rock_footprint</th>\n",
       "      <th>land_use_footprint</th>\n",
       "      <th>water_footprint</th>\n",
       "      <th>energy_demand</th>\n",
       "      <th>comments</th>\n",
       "    </tr>\n",
       "  </thead>\n",
       "  <tbody>\n",
       "    <tr>\n",
       "      <th>0</th>\n",
       "      <td>Apple (organic), average</td>\n",
       "      <td>0.2</td>\n",
       "      <td>Fruit and vegetables</td>\n",
       "      <td>NaN</td>\n",
       "      <td>NaN</td>\n",
       "      <td>NaN</td>\n",
       "      <td>NaN</td>\n",
       "      <td>NaN</td>\n",
       "    </tr>\n",
       "    <tr>\n",
       "      <th>1</th>\n",
       "      <td>Apple, average</td>\n",
       "      <td>0.3</td>\n",
       "      <td>Fruit and vegetables</td>\n",
       "      <td>1.0</td>\n",
       "      <td>0.1</td>\n",
       "      <td>1500</td>\n",
       "      <td>0.8</td>\n",
       "      <td>NaN</td>\n",
       "    </tr>\n",
       "    <tr>\n",
       "      <th>2</th>\n",
       "      <td>Apple, from New Zealand</td>\n",
       "      <td>0.8</td>\n",
       "      <td>Fruit and vegetables</td>\n",
       "      <td>NaN</td>\n",
       "      <td>NaN</td>\n",
       "      <td>NaN</td>\n",
       "      <td>NaN</td>\n",
       "      <td>NaN</td>\n",
       "    </tr>\n",
       "    <tr>\n",
       "      <th>3</th>\n",
       "      <td>Apple, regional in April</td>\n",
       "      <td>0.4</td>\n",
       "      <td>Fruit and vegetables</td>\n",
       "      <td>NaN</td>\n",
       "      <td>NaN</td>\n",
       "      <td>NaN</td>\n",
       "      <td>NaN</td>\n",
       "      <td>NaN</td>\n",
       "    </tr>\n",
       "    <tr>\n",
       "      <th>4</th>\n",
       "      <td>Apple, regional in autumn</td>\n",
       "      <td>0.3</td>\n",
       "      <td>Fruit and vegetables</td>\n",
       "      <td>NaN</td>\n",
       "      <td>NaN</td>\n",
       "      <td>NaN</td>\n",
       "      <td>NaN</td>\n",
       "      <td>NaN</td>\n",
       "    </tr>\n",
       "    <tr>\n",
       "      <th>...</th>\n",
       "      <td>...</td>\n",
       "      <td>...</td>\n",
       "      <td>...</td>\n",
       "      <td>...</td>\n",
       "      <td>...</td>\n",
       "      <td>...</td>\n",
       "      <td>...</td>\n",
       "      <td>...</td>\n",
       "    </tr>\n",
       "    <tr>\n",
       "      <th>182</th>\n",
       "      <td>Juice, orange juice, 1.0 L composite carton</td>\n",
       "      <td>0.7</td>\n",
       "      <td>Beverages</td>\n",
       "      <td>5.0</td>\n",
       "      <td>0.2</td>\n",
       "      <td>40000</td>\n",
       "      <td>3.0</td>\n",
       "      <td>NaN</td>\n",
       "    </tr>\n",
       "    <tr>\n",
       "      <th>183</th>\n",
       "      <td>Lemonade, orange lemonade,0.75 L disposable pl...</td>\n",
       "      <td>0.4</td>\n",
       "      <td>Beverages</td>\n",
       "      <td>NaN</td>\n",
       "      <td>NaN</td>\n",
       "      <td>NaN</td>\n",
       "      <td>NaN</td>\n",
       "      <td>NaN</td>\n",
       "    </tr>\n",
       "    <tr>\n",
       "      <th>184</th>\n",
       "      <td>Mineral water, 0.7 L returnable glass bottle</td>\n",
       "      <td>0.2</td>\n",
       "      <td>Beverages</td>\n",
       "      <td>NaN</td>\n",
       "      <td>NaN</td>\n",
       "      <td>NaN</td>\n",
       "      <td>NaN</td>\n",
       "      <td>NaN</td>\n",
       "    </tr>\n",
       "    <tr>\n",
       "      <th>185</th>\n",
       "      <td>Water, tap water</td>\n",
       "      <td>0.0</td>\n",
       "      <td>Beverages</td>\n",
       "      <td>NaN</td>\n",
       "      <td>NaN</td>\n",
       "      <td>NaN</td>\n",
       "      <td>NaN</td>\n",
       "      <td>NaN</td>\n",
       "    </tr>\n",
       "    <tr>\n",
       "      <th>186</th>\n",
       "      <td>Wine, 0.75 L disposable glass bottle</td>\n",
       "      <td>1.0</td>\n",
       "      <td>Beverages</td>\n",
       "      <td>NaN</td>\n",
       "      <td>NaN</td>\n",
       "      <td>NaN</td>\n",
       "      <td>NaN</td>\n",
       "      <td>NaN</td>\n",
       "    </tr>\n",
       "  </tbody>\n",
       "</table>\n",
       "<p>187 rows × 8 columns</p>\n",
       "</div>"
      ],
      "text/plain": [
       "                                                  food  co2_footprint  \\\n",
       "0                             Apple (organic), average            0.2   \n",
       "1                                       Apple, average            0.3   \n",
       "2                              Apple, from New Zealand            0.8   \n",
       "3                             Apple, regional in April            0.4   \n",
       "4                            Apple, regional in autumn            0.3   \n",
       "..                                                 ...            ...   \n",
       "182        Juice, orange juice, 1.0 L composite carton            0.7   \n",
       "183  Lemonade, orange lemonade,0.75 L disposable pl...            0.4   \n",
       "184       Mineral water, 0.7 L returnable glass bottle            0.2   \n",
       "185                                   Water, tap water            0.0   \n",
       "186               Wine, 0.75 L disposable glass bottle            1.0   \n",
       "\n",
       "                 category  phosphate_rock_footprint  land_use_footprint  \\\n",
       "0    Fruit and vegetables                       NaN                 NaN   \n",
       "1    Fruit and vegetables                       1.0                 0.1   \n",
       "2    Fruit and vegetables                       NaN                 NaN   \n",
       "3    Fruit and vegetables                       NaN                 NaN   \n",
       "4    Fruit and vegetables                       NaN                 NaN   \n",
       "..                    ...                       ...                 ...   \n",
       "182             Beverages                       5.0                 0.2   \n",
       "183             Beverages                       NaN                 NaN   \n",
       "184             Beverages                       NaN                 NaN   \n",
       "185             Beverages                       NaN                 NaN   \n",
       "186             Beverages                       NaN                 NaN   \n",
       "\n",
       "    water_footprint  energy_demand comments  \n",
       "0               NaN            NaN      NaN  \n",
       "1              1500            0.8      NaN  \n",
       "2               NaN            NaN      NaN  \n",
       "3               NaN            NaN      NaN  \n",
       "4               NaN            NaN      NaN  \n",
       "..              ...            ...      ...  \n",
       "182           40000            3.0      NaN  \n",
       "183             NaN            NaN      NaN  \n",
       "184             NaN            NaN      NaN  \n",
       "185             NaN            NaN      NaN  \n",
       "186             NaN            NaN      NaN  \n",
       "\n",
       "[187 rows x 8 columns]"
      ]
     },
     "execution_count": 15,
     "metadata": {},
     "output_type": "execute_result"
    }
   ],
   "source": [
    "df_foodprint"
   ]
  },
  {
   "cell_type": "code",
   "execution_count": 16,
   "id": "behind-respondent",
   "metadata": {},
   "outputs": [
    {
     "name": "stdout",
     "output_type": "stream",
     "text": [
      "<class 'pandas.core.frame.DataFrame'>\n",
      "RangeIndex: 187 entries, 0 to 186\n",
      "Data columns (total 8 columns):\n",
      " #   Column                    Non-Null Count  Dtype  \n",
      "---  ------                    --------------  -----  \n",
      " 0   food                      187 non-null    object \n",
      " 1   co2_footprint             186 non-null    float64\n",
      " 2   category                  187 non-null    object \n",
      " 3   phosphate_rock_footprint  35 non-null     float64\n",
      " 4   land_use_footprint        35 non-null     float64\n",
      " 5   water_footprint           35 non-null     object \n",
      " 6   energy_demand             34 non-null     float64\n",
      " 7   comments                  6 non-null      object \n",
      "dtypes: float64(4), object(4)\n",
      "memory usage: 11.8+ KB\n"
     ]
    }
   ],
   "source": [
    "df_foodprint.info()"
   ]
  },
  {
   "cell_type": "code",
   "execution_count": 17,
   "id": "thorough-singapore",
   "metadata": {},
   "outputs": [
    {
     "data": {
      "text/html": [
       "<div>\n",
       "<style scoped>\n",
       "    .dataframe tbody tr th:only-of-type {\n",
       "        vertical-align: middle;\n",
       "    }\n",
       "\n",
       "    .dataframe tbody tr th {\n",
       "        vertical-align: top;\n",
       "    }\n",
       "\n",
       "    .dataframe thead th {\n",
       "        text-align: right;\n",
       "    }\n",
       "</style>\n",
       "<table border=\"1\" class=\"dataframe\">\n",
       "  <thead>\n",
       "    <tr style=\"text-align: right;\">\n",
       "      <th></th>\n",
       "      <th>co2_footprint</th>\n",
       "      <th>phosphate_rock_footprint</th>\n",
       "      <th>land_use_footprint</th>\n",
       "      <th>energy_demand</th>\n",
       "    </tr>\n",
       "  </thead>\n",
       "  <tbody>\n",
       "    <tr>\n",
       "      <th>count</th>\n",
       "      <td>186.0</td>\n",
       "      <td>35.0</td>\n",
       "      <td>35.0</td>\n",
       "      <td>34.0</td>\n",
       "    </tr>\n",
       "    <tr>\n",
       "      <th>mean</th>\n",
       "      <td>2.0</td>\n",
       "      <td>50.0</td>\n",
       "      <td>430.0</td>\n",
       "      <td>6.0</td>\n",
       "    </tr>\n",
       "    <tr>\n",
       "      <th>std</th>\n",
       "      <td>3.0</td>\n",
       "      <td>68.0</td>\n",
       "      <td>2535.0</td>\n",
       "      <td>7.0</td>\n",
       "    </tr>\n",
       "    <tr>\n",
       "      <th>min</th>\n",
       "      <td>0.0</td>\n",
       "      <td>0.0</td>\n",
       "      <td>0.0</td>\n",
       "      <td>1.0</td>\n",
       "    </tr>\n",
       "    <tr>\n",
       "      <th>25%</th>\n",
       "      <td>0.0</td>\n",
       "      <td>7.0</td>\n",
       "      <td>0.0</td>\n",
       "      <td>2.0</td>\n",
       "    </tr>\n",
       "    <tr>\n",
       "      <th>50%</th>\n",
       "      <td>1.0</td>\n",
       "      <td>20.0</td>\n",
       "      <td>1.0</td>\n",
       "      <td>4.0</td>\n",
       "    </tr>\n",
       "    <tr>\n",
       "      <th>75%</th>\n",
       "      <td>3.0</td>\n",
       "      <td>60.0</td>\n",
       "      <td>2.0</td>\n",
       "      <td>6.0</td>\n",
       "    </tr>\n",
       "    <tr>\n",
       "      <th>max</th>\n",
       "      <td>22.0</td>\n",
       "      <td>300.0</td>\n",
       "      <td>15000.0</td>\n",
       "      <td>40.0</td>\n",
       "    </tr>\n",
       "  </tbody>\n",
       "</table>\n",
       "</div>"
      ],
      "text/plain": [
       "       co2_footprint  phosphate_rock_footprint  land_use_footprint  \\\n",
       "count          186.0                      35.0                35.0   \n",
       "mean             2.0                      50.0               430.0   \n",
       "std              3.0                      68.0              2535.0   \n",
       "min              0.0                       0.0                 0.0   \n",
       "25%              0.0                       7.0                 0.0   \n",
       "50%              1.0                      20.0                 1.0   \n",
       "75%              3.0                      60.0                 2.0   \n",
       "max             22.0                     300.0             15000.0   \n",
       "\n",
       "       energy_demand  \n",
       "count           34.0  \n",
       "mean             6.0  \n",
       "std              7.0  \n",
       "min              1.0  \n",
       "25%              2.0  \n",
       "50%              4.0  \n",
       "75%              6.0  \n",
       "max             40.0  "
      ]
     },
     "execution_count": 17,
     "metadata": {},
     "output_type": "execute_result"
    }
   ],
   "source": [
    "round(df_foodprint.describe())"
   ]
  },
  {
   "cell_type": "code",
   "execution_count": 13,
   "id": "distinct-confirmation",
   "metadata": {},
   "outputs": [
    {
     "ename": "KeyError",
     "evalue": "'co2_footprint'",
     "output_type": "error",
     "traceback": [
      "\u001b[0;31m---------------------------------------------------------------------------\u001b[0m",
      "\u001b[0;31mKeyError\u001b[0m                                  Traceback (most recent call last)",
      "\u001b[0;32m<ipython-input-13-16678d289772>\u001b[0m in \u001b[0;36m<module>\u001b[0;34m\u001b[0m\n\u001b[0;32m----> 1\u001b[0;31m \u001b[0mdf_ingredients\u001b[0m\u001b[0;34m.\u001b[0m\u001b[0mfood\u001b[0m\u001b[0;34m.\u001b[0m\u001b[0mhist\u001b[0m\u001b[0;34m(\u001b[0m\u001b[0;34m'co2_footprint'\u001b[0m\u001b[0;34m)\u001b[0m\u001b[0;34m;\u001b[0m\u001b[0;34m\u001b[0m\u001b[0;34m\u001b[0m\u001b[0m\n\u001b[0m",
      "\u001b[0;32m/usr/local/Caskroom/miniconda/base/envs/agri_env/lib/python3.8/site-packages/pandas/plotting/_core.py\u001b[0m in \u001b[0;36mhist_series\u001b[0;34m(self, by, ax, grid, xlabelsize, xrot, ylabelsize, yrot, figsize, bins, backend, legend, **kwargs)\u001b[0m\n\u001b[1;32m     83\u001b[0m     \"\"\"\n\u001b[1;32m     84\u001b[0m     \u001b[0mplot_backend\u001b[0m \u001b[0;34m=\u001b[0m \u001b[0m_get_plot_backend\u001b[0m\u001b[0;34m(\u001b[0m\u001b[0mbackend\u001b[0m\u001b[0;34m)\u001b[0m\u001b[0;34m\u001b[0m\u001b[0;34m\u001b[0m\u001b[0m\n\u001b[0;32m---> 85\u001b[0;31m     return plot_backend.hist_series(\n\u001b[0m\u001b[1;32m     86\u001b[0m         \u001b[0mself\u001b[0m\u001b[0;34m,\u001b[0m\u001b[0;34m\u001b[0m\u001b[0;34m\u001b[0m\u001b[0m\n\u001b[1;32m     87\u001b[0m         \u001b[0mby\u001b[0m\u001b[0;34m=\u001b[0m\u001b[0mby\u001b[0m\u001b[0;34m,\u001b[0m\u001b[0;34m\u001b[0m\u001b[0;34m\u001b[0m\u001b[0m\n",
      "\u001b[0;32m/usr/local/Caskroom/miniconda/base/envs/agri_env/lib/python3.8/site-packages/pandas/plotting/_matplotlib/hist.py\u001b[0m in \u001b[0;36mhist_series\u001b[0;34m(self, by, ax, grid, xlabelsize, xrot, ylabelsize, yrot, figsize, bins, legend, **kwds)\u001b[0m\n\u001b[1;32m    352\u001b[0m                 \u001b[0;34m\"'by' argument, since a new 'Figure' instance will be created\"\u001b[0m\u001b[0;34m\u001b[0m\u001b[0;34m\u001b[0m\u001b[0m\n\u001b[1;32m    353\u001b[0m             )\n\u001b[0;32m--> 354\u001b[0;31m         axes = _grouped_hist(\n\u001b[0m\u001b[1;32m    355\u001b[0m             \u001b[0mself\u001b[0m\u001b[0;34m,\u001b[0m\u001b[0;34m\u001b[0m\u001b[0;34m\u001b[0m\u001b[0m\n\u001b[1;32m    356\u001b[0m             \u001b[0mby\u001b[0m\u001b[0;34m=\u001b[0m\u001b[0mby\u001b[0m\u001b[0;34m,\u001b[0m\u001b[0;34m\u001b[0m\u001b[0;34m\u001b[0m\u001b[0m\n",
      "\u001b[0;32m/usr/local/Caskroom/miniconda/base/envs/agri_env/lib/python3.8/site-packages/pandas/plotting/_matplotlib/hist.py\u001b[0m in \u001b[0;36m_grouped_hist\u001b[0;34m(data, column, by, ax, bins, figsize, layout, sharex, sharey, rot, grid, xlabelsize, xrot, ylabelsize, yrot, legend, **kwargs)\u001b[0m\n\u001b[1;32m    278\u001b[0m         \u001b[0mxrot\u001b[0m \u001b[0;34m=\u001b[0m \u001b[0mrot\u001b[0m\u001b[0;34m\u001b[0m\u001b[0;34m\u001b[0m\u001b[0m\n\u001b[1;32m    279\u001b[0m \u001b[0;34m\u001b[0m\u001b[0m\n\u001b[0;32m--> 280\u001b[0;31m     fig, axes = _grouped_plot(\n\u001b[0m\u001b[1;32m    281\u001b[0m         \u001b[0mplot_group\u001b[0m\u001b[0;34m,\u001b[0m\u001b[0;34m\u001b[0m\u001b[0;34m\u001b[0m\u001b[0m\n\u001b[1;32m    282\u001b[0m         \u001b[0mdata\u001b[0m\u001b[0;34m,\u001b[0m\u001b[0;34m\u001b[0m\u001b[0;34m\u001b[0m\u001b[0m\n",
      "\u001b[0;32m/usr/local/Caskroom/miniconda/base/envs/agri_env/lib/python3.8/site-packages/pandas/plotting/_matplotlib/hist.py\u001b[0m in \u001b[0;36m_grouped_plot\u001b[0;34m(plotf, data, column, by, numeric_only, figsize, sharex, sharey, layout, rot, ax, **kwargs)\u001b[0m\n\u001b[1;32m    198\u001b[0m         )\n\u001b[1;32m    199\u001b[0m \u001b[0;34m\u001b[0m\u001b[0m\n\u001b[0;32m--> 200\u001b[0;31m     \u001b[0mgrouped\u001b[0m \u001b[0;34m=\u001b[0m \u001b[0mdata\u001b[0m\u001b[0;34m.\u001b[0m\u001b[0mgroupby\u001b[0m\u001b[0;34m(\u001b[0m\u001b[0mby\u001b[0m\u001b[0;34m)\u001b[0m\u001b[0;34m\u001b[0m\u001b[0;34m\u001b[0m\u001b[0m\n\u001b[0m\u001b[1;32m    201\u001b[0m     \u001b[0;32mif\u001b[0m \u001b[0mcolumn\u001b[0m \u001b[0;32mis\u001b[0m \u001b[0;32mnot\u001b[0m \u001b[0;32mNone\u001b[0m\u001b[0;34m:\u001b[0m\u001b[0;34m\u001b[0m\u001b[0;34m\u001b[0m\u001b[0m\n\u001b[1;32m    202\u001b[0m         \u001b[0mgrouped\u001b[0m \u001b[0;34m=\u001b[0m \u001b[0mgrouped\u001b[0m\u001b[0;34m[\u001b[0m\u001b[0mcolumn\u001b[0m\u001b[0;34m]\u001b[0m\u001b[0;34m\u001b[0m\u001b[0;34m\u001b[0m\u001b[0m\n",
      "\u001b[0;32m/usr/local/Caskroom/miniconda/base/envs/agri_env/lib/python3.8/site-packages/pandas/core/series.py\u001b[0m in \u001b[0;36mgroupby\u001b[0;34m(self, by, axis, level, as_index, sort, group_keys, squeeze, observed, dropna)\u001b[0m\n\u001b[1;32m   1718\u001b[0m         \u001b[0maxis\u001b[0m \u001b[0;34m=\u001b[0m \u001b[0mself\u001b[0m\u001b[0;34m.\u001b[0m\u001b[0m_get_axis_number\u001b[0m\u001b[0;34m(\u001b[0m\u001b[0maxis\u001b[0m\u001b[0;34m)\u001b[0m\u001b[0;34m\u001b[0m\u001b[0;34m\u001b[0m\u001b[0m\n\u001b[1;32m   1719\u001b[0m \u001b[0;34m\u001b[0m\u001b[0m\n\u001b[0;32m-> 1720\u001b[0;31m         return SeriesGroupBy(\n\u001b[0m\u001b[1;32m   1721\u001b[0m             \u001b[0mobj\u001b[0m\u001b[0;34m=\u001b[0m\u001b[0mself\u001b[0m\u001b[0;34m,\u001b[0m\u001b[0;34m\u001b[0m\u001b[0;34m\u001b[0m\u001b[0m\n\u001b[1;32m   1722\u001b[0m             \u001b[0mkeys\u001b[0m\u001b[0;34m=\u001b[0m\u001b[0mby\u001b[0m\u001b[0;34m,\u001b[0m\u001b[0;34m\u001b[0m\u001b[0;34m\u001b[0m\u001b[0m\n",
      "\u001b[0;32m/usr/local/Caskroom/miniconda/base/envs/agri_env/lib/python3.8/site-packages/pandas/core/groupby/groupby.py\u001b[0m in \u001b[0;36m__init__\u001b[0;34m(self, obj, keys, axis, level, grouper, exclusions, selection, as_index, sort, group_keys, squeeze, observed, mutated, dropna)\u001b[0m\n\u001b[1;32m    558\u001b[0m             \u001b[0;32mfrom\u001b[0m \u001b[0mpandas\u001b[0m\u001b[0;34m.\u001b[0m\u001b[0mcore\u001b[0m\u001b[0;34m.\u001b[0m\u001b[0mgroupby\u001b[0m\u001b[0;34m.\u001b[0m\u001b[0mgrouper\u001b[0m \u001b[0;32mimport\u001b[0m \u001b[0mget_grouper\u001b[0m\u001b[0;34m\u001b[0m\u001b[0;34m\u001b[0m\u001b[0m\n\u001b[1;32m    559\u001b[0m \u001b[0;34m\u001b[0m\u001b[0m\n\u001b[0;32m--> 560\u001b[0;31m             grouper, exclusions, obj = get_grouper(\n\u001b[0m\u001b[1;32m    561\u001b[0m                 \u001b[0mobj\u001b[0m\u001b[0;34m,\u001b[0m\u001b[0;34m\u001b[0m\u001b[0;34m\u001b[0m\u001b[0m\n\u001b[1;32m    562\u001b[0m                 \u001b[0mkeys\u001b[0m\u001b[0;34m,\u001b[0m\u001b[0;34m\u001b[0m\u001b[0;34m\u001b[0m\u001b[0m\n",
      "\u001b[0;32m/usr/local/Caskroom/miniconda/base/envs/agri_env/lib/python3.8/site-packages/pandas/core/groupby/grouper.py\u001b[0m in \u001b[0;36mget_grouper\u001b[0;34m(obj, key, axis, level, sort, observed, mutated, validate, dropna)\u001b[0m\n\u001b[1;32m    809\u001b[0m                 \u001b[0min_axis\u001b[0m\u001b[0;34m,\u001b[0m \u001b[0mname\u001b[0m\u001b[0;34m,\u001b[0m \u001b[0mlevel\u001b[0m\u001b[0;34m,\u001b[0m \u001b[0mgpr\u001b[0m \u001b[0;34m=\u001b[0m \u001b[0;32mFalse\u001b[0m\u001b[0;34m,\u001b[0m \u001b[0;32mNone\u001b[0m\u001b[0;34m,\u001b[0m \u001b[0mgpr\u001b[0m\u001b[0;34m,\u001b[0m \u001b[0;32mNone\u001b[0m\u001b[0;34m\u001b[0m\u001b[0;34m\u001b[0m\u001b[0m\n\u001b[1;32m    810\u001b[0m             \u001b[0;32melse\u001b[0m\u001b[0;34m:\u001b[0m\u001b[0;34m\u001b[0m\u001b[0;34m\u001b[0m\u001b[0m\n\u001b[0;32m--> 811\u001b[0;31m                 \u001b[0;32mraise\u001b[0m \u001b[0mKeyError\u001b[0m\u001b[0;34m(\u001b[0m\u001b[0mgpr\u001b[0m\u001b[0;34m)\u001b[0m\u001b[0;34m\u001b[0m\u001b[0;34m\u001b[0m\u001b[0m\n\u001b[0m\u001b[1;32m    812\u001b[0m         \u001b[0;32melif\u001b[0m \u001b[0misinstance\u001b[0m\u001b[0;34m(\u001b[0m\u001b[0mgpr\u001b[0m\u001b[0;34m,\u001b[0m \u001b[0mGrouper\u001b[0m\u001b[0;34m)\u001b[0m \u001b[0;32mand\u001b[0m \u001b[0mgpr\u001b[0m\u001b[0;34m.\u001b[0m\u001b[0mkey\u001b[0m \u001b[0;32mis\u001b[0m \u001b[0;32mnot\u001b[0m \u001b[0;32mNone\u001b[0m\u001b[0;34m:\u001b[0m\u001b[0;34m\u001b[0m\u001b[0;34m\u001b[0m\u001b[0m\n\u001b[1;32m    813\u001b[0m             \u001b[0;31m# Add key to exclusions\u001b[0m\u001b[0;34m\u001b[0m\u001b[0;34m\u001b[0m\u001b[0;34m\u001b[0m\u001b[0m\n",
      "\u001b[0;31mKeyError\u001b[0m: 'co2_footprint'"
     ]
    }
   ],
   "source": [
    "df_foodprint.food.hist('co2_footprint');"
   ]
  },
  {
   "cell_type": "code",
   "execution_count": 10,
   "id": "conservative-vessel",
   "metadata": {},
   "outputs": [
    {
     "ename": "SyntaxError",
     "evalue": "unexpected EOF while parsing (<ipython-input-10-c47617ea5315>, line 1)",
     "output_type": "error",
     "traceback": [
      "\u001b[0;36m  File \u001b[0;32m\"<ipython-input-10-c47617ea5315>\"\u001b[0;36m, line \u001b[0;32m1\u001b[0m\n\u001b[0;31m    df_ingredients[['Food product'],['Total_emissions'].hist()\u001b[0m\n\u001b[0m                                                              ^\u001b[0m\n\u001b[0;31mSyntaxError\u001b[0m\u001b[0;31m:\u001b[0m unexpected EOF while parsing\n"
     ]
    }
   ],
   "source": [
    "df_ingredients[['Food product'],['Total_emissions'].hist()"
   ]
  },
  {
   "cell_type": "raw",
   "id": "accepted-rugby",
   "metadata": {},
   "source": [
    "df_ingredients.hist(column='', bins=20)"
   ]
  },
  {
   "cell_type": "code",
   "execution_count": 11,
   "id": "optical-inside",
   "metadata": {},
   "outputs": [
    {
     "ename": "KeyError",
     "evalue": "'Food product'",
     "output_type": "error",
     "traceback": [
      "\u001b[0;31m---------------------------------------------------------------------------\u001b[0m",
      "\u001b[0;31mKeyError\u001b[0m                                  Traceback (most recent call last)",
      "\u001b[0;32m/usr/local/Caskroom/miniconda/base/envs/agri_env/lib/python3.8/site-packages/pandas/core/indexes/base.py\u001b[0m in \u001b[0;36mget_loc\u001b[0;34m(self, key, method, tolerance)\u001b[0m\n\u001b[1;32m   3079\u001b[0m             \u001b[0;32mtry\u001b[0m\u001b[0;34m:\u001b[0m\u001b[0;34m\u001b[0m\u001b[0;34m\u001b[0m\u001b[0m\n\u001b[0;32m-> 3080\u001b[0;31m                 \u001b[0;32mreturn\u001b[0m \u001b[0mself\u001b[0m\u001b[0;34m.\u001b[0m\u001b[0m_engine\u001b[0m\u001b[0;34m.\u001b[0m\u001b[0mget_loc\u001b[0m\u001b[0;34m(\u001b[0m\u001b[0mcasted_key\u001b[0m\u001b[0;34m)\u001b[0m\u001b[0;34m\u001b[0m\u001b[0;34m\u001b[0m\u001b[0m\n\u001b[0m\u001b[1;32m   3081\u001b[0m             \u001b[0;32mexcept\u001b[0m \u001b[0mKeyError\u001b[0m \u001b[0;32mas\u001b[0m \u001b[0merr\u001b[0m\u001b[0;34m:\u001b[0m\u001b[0;34m\u001b[0m\u001b[0;34m\u001b[0m\u001b[0m\n",
      "\u001b[0;32mpandas/_libs/index.pyx\u001b[0m in \u001b[0;36mpandas._libs.index.IndexEngine.get_loc\u001b[0;34m()\u001b[0m\n",
      "\u001b[0;32mpandas/_libs/index.pyx\u001b[0m in \u001b[0;36mpandas._libs.index.IndexEngine.get_loc\u001b[0;34m()\u001b[0m\n",
      "\u001b[0;32mpandas/_libs/hashtable_class_helper.pxi\u001b[0m in \u001b[0;36mpandas._libs.hashtable.PyObjectHashTable.get_item\u001b[0;34m()\u001b[0m\n",
      "\u001b[0;32mpandas/_libs/hashtable_class_helper.pxi\u001b[0m in \u001b[0;36mpandas._libs.hashtable.PyObjectHashTable.get_item\u001b[0;34m()\u001b[0m\n",
      "\u001b[0;31mKeyError\u001b[0m: 'Food product'",
      "\nThe above exception was the direct cause of the following exception:\n",
      "\u001b[0;31mKeyError\u001b[0m                                  Traceback (most recent call last)",
      "\u001b[0;32m<ipython-input-11-67314fc18ff0>\u001b[0m in \u001b[0;36m<module>\u001b[0;34m\u001b[0m\n\u001b[1;32m      3\u001b[0m \u001b[0mfig\u001b[0m\u001b[0;34m,\u001b[0m \u001b[0max\u001b[0m \u001b[0;34m=\u001b[0m \u001b[0mplt\u001b[0m\u001b[0;34m.\u001b[0m\u001b[0msubplots\u001b[0m\u001b[0;34m(\u001b[0m\u001b[0mfigsize\u001b[0m\u001b[0;34m=\u001b[0m\u001b[0;34m(\u001b[0m\u001b[0;36m10\u001b[0m\u001b[0;34m,\u001b[0m\u001b[0;36m5\u001b[0m\u001b[0;34m)\u001b[0m\u001b[0;34m)\u001b[0m\u001b[0;34m\u001b[0m\u001b[0;34m\u001b[0m\u001b[0m\n\u001b[1;32m      4\u001b[0m (\n\u001b[0;32m----> 5\u001b[0;31m     \u001b[0mdf_ingredients\u001b[0m\u001b[0;34m[\u001b[0m\u001b[0;34m'Food product'\u001b[0m\u001b[0;34m]\u001b[0m\u001b[0;34m\u001b[0m\u001b[0;34m\u001b[0m\u001b[0m\n\u001b[0m\u001b[1;32m      6\u001b[0m     \u001b[0;34m.\u001b[0m\u001b[0mgroupby\u001b[0m\u001b[0;34m(\u001b[0m\u001b[0;34m'Total_emissions'\u001b[0m\u001b[0;34m)\u001b[0m \u001b[0;31m# aggregate data to level of airline\u001b[0m\u001b[0;34m\u001b[0m\u001b[0;34m\u001b[0m\u001b[0m\n\u001b[1;32m      7\u001b[0m     \u001b[0;31m#.count()['FL_DATE'] # count the observations\u001b[0m\u001b[0;34m\u001b[0m\u001b[0;34m\u001b[0m\u001b[0;34m\u001b[0m\u001b[0m\n",
      "\u001b[0;32m/usr/local/Caskroom/miniconda/base/envs/agri_env/lib/python3.8/site-packages/pandas/core/frame.py\u001b[0m in \u001b[0;36m__getitem__\u001b[0;34m(self, key)\u001b[0m\n\u001b[1;32m   3022\u001b[0m             \u001b[0;32mif\u001b[0m \u001b[0mself\u001b[0m\u001b[0;34m.\u001b[0m\u001b[0mcolumns\u001b[0m\u001b[0;34m.\u001b[0m\u001b[0mnlevels\u001b[0m \u001b[0;34m>\u001b[0m \u001b[0;36m1\u001b[0m\u001b[0;34m:\u001b[0m\u001b[0;34m\u001b[0m\u001b[0;34m\u001b[0m\u001b[0m\n\u001b[1;32m   3023\u001b[0m                 \u001b[0;32mreturn\u001b[0m \u001b[0mself\u001b[0m\u001b[0;34m.\u001b[0m\u001b[0m_getitem_multilevel\u001b[0m\u001b[0;34m(\u001b[0m\u001b[0mkey\u001b[0m\u001b[0;34m)\u001b[0m\u001b[0;34m\u001b[0m\u001b[0;34m\u001b[0m\u001b[0m\n\u001b[0;32m-> 3024\u001b[0;31m             \u001b[0mindexer\u001b[0m \u001b[0;34m=\u001b[0m \u001b[0mself\u001b[0m\u001b[0;34m.\u001b[0m\u001b[0mcolumns\u001b[0m\u001b[0;34m.\u001b[0m\u001b[0mget_loc\u001b[0m\u001b[0;34m(\u001b[0m\u001b[0mkey\u001b[0m\u001b[0;34m)\u001b[0m\u001b[0;34m\u001b[0m\u001b[0;34m\u001b[0m\u001b[0m\n\u001b[0m\u001b[1;32m   3025\u001b[0m             \u001b[0;32mif\u001b[0m \u001b[0mis_integer\u001b[0m\u001b[0;34m(\u001b[0m\u001b[0mindexer\u001b[0m\u001b[0;34m)\u001b[0m\u001b[0;34m:\u001b[0m\u001b[0;34m\u001b[0m\u001b[0;34m\u001b[0m\u001b[0m\n\u001b[1;32m   3026\u001b[0m                 \u001b[0mindexer\u001b[0m \u001b[0;34m=\u001b[0m \u001b[0;34m[\u001b[0m\u001b[0mindexer\u001b[0m\u001b[0;34m]\u001b[0m\u001b[0;34m\u001b[0m\u001b[0;34m\u001b[0m\u001b[0m\n",
      "\u001b[0;32m/usr/local/Caskroom/miniconda/base/envs/agri_env/lib/python3.8/site-packages/pandas/core/indexes/base.py\u001b[0m in \u001b[0;36mget_loc\u001b[0;34m(self, key, method, tolerance)\u001b[0m\n\u001b[1;32m   3080\u001b[0m                 \u001b[0;32mreturn\u001b[0m \u001b[0mself\u001b[0m\u001b[0;34m.\u001b[0m\u001b[0m_engine\u001b[0m\u001b[0;34m.\u001b[0m\u001b[0mget_loc\u001b[0m\u001b[0;34m(\u001b[0m\u001b[0mcasted_key\u001b[0m\u001b[0;34m)\u001b[0m\u001b[0;34m\u001b[0m\u001b[0;34m\u001b[0m\u001b[0m\n\u001b[1;32m   3081\u001b[0m             \u001b[0;32mexcept\u001b[0m \u001b[0mKeyError\u001b[0m \u001b[0;32mas\u001b[0m \u001b[0merr\u001b[0m\u001b[0;34m:\u001b[0m\u001b[0;34m\u001b[0m\u001b[0;34m\u001b[0m\u001b[0m\n\u001b[0;32m-> 3082\u001b[0;31m                 \u001b[0;32mraise\u001b[0m \u001b[0mKeyError\u001b[0m\u001b[0;34m(\u001b[0m\u001b[0mkey\u001b[0m\u001b[0;34m)\u001b[0m \u001b[0;32mfrom\u001b[0m \u001b[0merr\u001b[0m\u001b[0;34m\u001b[0m\u001b[0;34m\u001b[0m\u001b[0m\n\u001b[0m\u001b[1;32m   3083\u001b[0m \u001b[0;34m\u001b[0m\u001b[0m\n\u001b[1;32m   3084\u001b[0m         \u001b[0;32mif\u001b[0m \u001b[0mtolerance\u001b[0m \u001b[0;32mis\u001b[0m \u001b[0;32mnot\u001b[0m \u001b[0;32mNone\u001b[0m\u001b[0;34m:\u001b[0m\u001b[0;34m\u001b[0m\u001b[0;34m\u001b[0m\u001b[0m\n",
      "\u001b[0;31mKeyError\u001b[0m: 'Food product'"
     ]
    },
    {
     "data": {
      "image/png": "[encoded data removed]",
      "text/plain": [
       "<Figure size 720x360 with 1 Axes>"
      ]
     },
     "metadata": {
      "needs_background": "light"
     },
     "output_type": "display_data"
    }
   ],
   "source": [
    "# Bar Chart\n",
    "\n",
    "fig, ax = plt.subplots(figsize=(10,5))\n",
    "(\n",
    "    df_ingredients['Food product']\n",
    "    .groupby('Total_emissions') # aggregate data to level of airline\n",
    "    #.count()['FL_DATE'] # count the observations\n",
    "    .sort_values() # sort the values in descending\n",
    "    .plot.barh() # Make a bar chart based on the dataframe\n",
    ")\n",
    "ax.set_title('Flight Volume by Airline in the USA April 2020')\n",
    "\n",
    "ax.set_xlabel('Count of Flights');\n",
    "ax.set_ylabel('Airline Unique Code');"
   ]
  },
  {
   "cell_type": "markdown",
   "id": "executive-serbia",
   "metadata": {},
   "source": [
    "# FAO - Emissions"
   ]
  },
  {
   "cell_type": "code",
   "execution_count": 5,
   "id": "awful-dress",
   "metadata": {},
   "outputs": [],
   "source": [
    "df_emissions = pd.read_csv(\"data/Emissions_Agriculture_Agriculture_total_E_All_Data_(Normalized).csv\")"
   ]
  },
  {
   "cell_type": "code",
   "execution_count": 6,
   "id": "guilty-memorial",
   "metadata": {},
   "outputs": [
    {
     "data": {
      "text/plain": [
       "Index(['Area Code', 'Area', 'Item Code', 'Item', 'Element Code', 'Element',\n",
       "       'Year Code', 'Year', 'Unit', 'Value', 'Flag', 'Note'],\n",
       "      dtype='object')"
      ]
     },
     "execution_count": 6,
     "metadata": {},
     "output_type": "execute_result"
    }
   ],
   "source": [
    "df_emissions.columns"
   ]
  },
  {
   "cell_type": "markdown",
   "id": "isolated-richardson",
   "metadata": {},
   "source": [
    "## Clean up the headers"
   ]
  },
  {
   "cell_type": "code",
   "execution_count": 7,
   "id": "wrong-virus",
   "metadata": {},
   "outputs": [],
   "source": [
    "# make a list column names\n",
    "cols = df_emissions.columns.tolist()\n",
    "# replace space with _\n",
    "cols = [col.replace(' ', '_').lower() for col in cols]\n",
    "# reassign new column names to dataframe\n",
    "df_emissions.columns = cols"
   ]
  },
  {
   "cell_type": "markdown",
   "id": "needed-brain",
   "metadata": {},
   "source": [
    "## Getting the data into SQL"
   ]
  },
  {
   "cell_type": "code",
   "execution_count": 25,
   "id": "center-fashion",
   "metadata": {},
   "outputs": [
    {
     "name": "stdout",
     "output_type": "stream",
     "text": [
      "<class 'pandas.core.frame.DataFrame'>\n",
      "RangeIndex: 523661 entries, 0 to 523660\n",
      "Data columns (total 12 columns):\n",
      " #   Column        Non-Null Count   Dtype  \n",
      "---  ------        --------------   -----  \n",
      " 0   area_code     523661 non-null  int64  \n",
      " 1   area          523661 non-null  object \n",
      " 2   item_code     523661 non-null  int64  \n",
      " 3   item          523661 non-null  object \n",
      " 4   element_code  523661 non-null  int64  \n",
      " 5   element       523661 non-null  object \n",
      " 6   year_code     523661 non-null  int64  \n",
      " 7   year          523661 non-null  int64  \n",
      " 8   unit          523661 non-null  object \n",
      " 9   value         523661 non-null  float64\n",
      " 10  flag          523661 non-null  object \n",
      " 11  note          0 non-null       float64\n",
      "dtypes: float64(2), int64(5), object(5)\n",
      "memory usage: 47.9+ MB\n"
     ]
    }
   ],
   "source": [
    "df_emissions.info()"
   ]
  },
  {
   "cell_type": "code",
   "execution_count": 16,
   "id": "sticky-satellite",
   "metadata": {},
   "outputs": [
    {
     "data": {
      "text/plain": [
       "<sqlalchemy.engine.result.ResultProxy at 0x7f87994f5be0>"
      ]
     },
     "execution_count": 16,
     "metadata": {},
     "output_type": "execute_result"
    }
   ],
   "source": [
    "engine.execute(\"CREATE TABLE IF NOT EXISTS public.agri_fao_emissions (area_code INTEGER, area VARCHAR, item_code integer, item VARCHAR, element_code integer, element varchar, year_code integer, year integer, unit varchar, value float, flag varchar, note float);\")"
   ]
  },
  {
   "cell_type": "code",
   "execution_count": 26,
   "id": "eligible-shareware",
   "metadata": {},
   "outputs": [
    {
     "name": "stdout",
     "output_type": "stream",
     "text": [
      "done uploading\n"
     ]
    }
   ],
   "source": [
    "# Specify which table within your database you want to push your data to. Here: 'agri_fao_emissions'\n",
    "# If the specified table doesn't exist yet, it will be created\n",
    "# With 'append', your data will be appended to the already existing data within the table.\n",
    "\n",
    "df_emissions.to_sql('agri_fao_emissions', engine, index=False, if_exists=\"append\", \n",
    "                  method='multi', chunksize=5000)\n",
    "print(f'done uploading')"
   ]
  },
  {
   "cell_type": "markdown",
   "id": "green-ceramic",
   "metadata": {},
   "source": [
    "## EDA 1 - Getting to know the data"
   ]
  },
  {
   "cell_type": "code",
   "execution_count": 8,
   "id": "complimentary-geology",
   "metadata": {},
   "outputs": [
    {
     "data": {
      "text/html": [
       "<div>\n",
       "<style scoped>\n",
       "    .dataframe tbody tr th:only-of-type {\n",
       "        vertical-align: middle;\n",
       "    }\n",
       "\n",
       "    .dataframe tbody tr th {\n",
       "        vertical-align: top;\n",
       "    }\n",
       "\n",
       "    .dataframe thead th {\n",
       "        text-align: right;\n",
       "    }\n",
       "</style>\n",
       "<table border=\"1\" class=\"dataframe\">\n",
       "  <thead>\n",
       "    <tr style=\"text-align: right;\">\n",
       "      <th></th>\n",
       "      <th>area_code</th>\n",
       "      <th>area</th>\n",
       "      <th>item_code</th>\n",
       "      <th>item</th>\n",
       "      <th>element_code</th>\n",
       "      <th>element</th>\n",
       "      <th>year_code</th>\n",
       "      <th>year</th>\n",
       "      <th>unit</th>\n",
       "      <th>value</th>\n",
       "      <th>flag</th>\n",
       "      <th>note</th>\n",
       "    </tr>\n",
       "  </thead>\n",
       "  <tbody>\n",
       "    <tr>\n",
       "      <th>0</th>\n",
       "      <td>2</td>\n",
       "      <td>Afghanistan</td>\n",
       "      <td>5058</td>\n",
       "      <td>Enteric Fermentation</td>\n",
       "      <td>7225</td>\n",
       "      <td>CH4 emissions</td>\n",
       "      <td>1961</td>\n",
       "      <td>1961</td>\n",
       "      <td>gigagrams</td>\n",
       "      <td>240.6831</td>\n",
       "      <td>A</td>\n",
       "      <td>NaN</td>\n",
       "    </tr>\n",
       "    <tr>\n",
       "      <th>1</th>\n",
       "      <td>2</td>\n",
       "      <td>Afghanistan</td>\n",
       "      <td>5058</td>\n",
       "      <td>Enteric Fermentation</td>\n",
       "      <td>7225</td>\n",
       "      <td>CH4 emissions</td>\n",
       "      <td>1962</td>\n",
       "      <td>1962</td>\n",
       "      <td>gigagrams</td>\n",
       "      <td>245.3106</td>\n",
       "      <td>A</td>\n",
       "      <td>NaN</td>\n",
       "    </tr>\n",
       "    <tr>\n",
       "      <th>2</th>\n",
       "      <td>2</td>\n",
       "      <td>Afghanistan</td>\n",
       "      <td>5058</td>\n",
       "      <td>Enteric Fermentation</td>\n",
       "      <td>7225</td>\n",
       "      <td>CH4 emissions</td>\n",
       "      <td>1963</td>\n",
       "      <td>1963</td>\n",
       "      <td>gigagrams</td>\n",
       "      <td>255.8285</td>\n",
       "      <td>A</td>\n",
       "      <td>NaN</td>\n",
       "    </tr>\n",
       "    <tr>\n",
       "      <th>3</th>\n",
       "      <td>2</td>\n",
       "      <td>Afghanistan</td>\n",
       "      <td>5058</td>\n",
       "      <td>Enteric Fermentation</td>\n",
       "      <td>7225</td>\n",
       "      <td>CH4 emissions</td>\n",
       "      <td>1964</td>\n",
       "      <td>1964</td>\n",
       "      <td>gigagrams</td>\n",
       "      <td>259.0650</td>\n",
       "      <td>A</td>\n",
       "      <td>NaN</td>\n",
       "    </tr>\n",
       "    <tr>\n",
       "      <th>4</th>\n",
       "      <td>2</td>\n",
       "      <td>Afghanistan</td>\n",
       "      <td>5058</td>\n",
       "      <td>Enteric Fermentation</td>\n",
       "      <td>7225</td>\n",
       "      <td>CH4 emissions</td>\n",
       "      <td>1965</td>\n",
       "      <td>1965</td>\n",
       "      <td>gigagrams</td>\n",
       "      <td>265.5980</td>\n",
       "      <td>A</td>\n",
       "      <td>NaN</td>\n",
       "    </tr>\n",
       "    <tr>\n",
       "      <th>...</th>\n",
       "      <td>...</td>\n",
       "      <td>...</td>\n",
       "      <td>...</td>\n",
       "      <td>...</td>\n",
       "      <td>...</td>\n",
       "      <td>...</td>\n",
       "      <td>...</td>\n",
       "      <td>...</td>\n",
       "      <td>...</td>\n",
       "      <td>...</td>\n",
       "      <td>...</td>\n",
       "      <td>...</td>\n",
       "    </tr>\n",
       "    <tr>\n",
       "      <th>523656</th>\n",
       "      <td>5873</td>\n",
       "      <td>OECD</td>\n",
       "      <td>1709</td>\n",
       "      <td>Agricultural Soils</td>\n",
       "      <td>7243</td>\n",
       "      <td>Emissions (CO2eq) from N2O</td>\n",
       "      <td>2016</td>\n",
       "      <td>2016</td>\n",
       "      <td>gigagrams</td>\n",
       "      <td>515243.7721</td>\n",
       "      <td>A</td>\n",
       "      <td>NaN</td>\n",
       "    </tr>\n",
       "    <tr>\n",
       "      <th>523657</th>\n",
       "      <td>5873</td>\n",
       "      <td>OECD</td>\n",
       "      <td>1709</td>\n",
       "      <td>Agricultural Soils</td>\n",
       "      <td>7243</td>\n",
       "      <td>Emissions (CO2eq) from N2O</td>\n",
       "      <td>2017</td>\n",
       "      <td>2017</td>\n",
       "      <td>gigagrams</td>\n",
       "      <td>516924.3036</td>\n",
       "      <td>A</td>\n",
       "      <td>NaN</td>\n",
       "    </tr>\n",
       "    <tr>\n",
       "      <th>523658</th>\n",
       "      <td>5873</td>\n",
       "      <td>OECD</td>\n",
       "      <td>1709</td>\n",
       "      <td>Agricultural Soils</td>\n",
       "      <td>7243</td>\n",
       "      <td>Emissions (CO2eq) from N2O</td>\n",
       "      <td>2018</td>\n",
       "      <td>2018</td>\n",
       "      <td>gigagrams</td>\n",
       "      <td>513827.4768</td>\n",
       "      <td>A</td>\n",
       "      <td>NaN</td>\n",
       "    </tr>\n",
       "    <tr>\n",
       "      <th>523659</th>\n",
       "      <td>5873</td>\n",
       "      <td>OECD</td>\n",
       "      <td>1709</td>\n",
       "      <td>Agricultural Soils</td>\n",
       "      <td>7243</td>\n",
       "      <td>Emissions (CO2eq) from N2O</td>\n",
       "      <td>2030</td>\n",
       "      <td>2030</td>\n",
       "      <td>gigagrams</td>\n",
       "      <td>524388.0749</td>\n",
       "      <td>A</td>\n",
       "      <td>NaN</td>\n",
       "    </tr>\n",
       "    <tr>\n",
       "      <th>523660</th>\n",
       "      <td>5873</td>\n",
       "      <td>OECD</td>\n",
       "      <td>1709</td>\n",
       "      <td>Agricultural Soils</td>\n",
       "      <td>7243</td>\n",
       "      <td>Emissions (CO2eq) from N2O</td>\n",
       "      <td>2050</td>\n",
       "      <td>2050</td>\n",
       "      <td>gigagrams</td>\n",
       "      <td>541183.0634</td>\n",
       "      <td>A</td>\n",
       "      <td>NaN</td>\n",
       "    </tr>\n",
       "  </tbody>\n",
       "</table>\n",
       "<p>523661 rows × 12 columns</p>\n",
       "</div>"
      ],
      "text/plain": [
       "        area_code         area  item_code                  item  element_code  \\\n",
       "0               2  Afghanistan       5058  Enteric Fermentation          7225   \n",
       "1               2  Afghanistan       5058  Enteric Fermentation          7225   \n",
       "2               2  Afghanistan       5058  Enteric Fermentation          7225   \n",
       "3               2  Afghanistan       5058  Enteric Fermentation          7225   \n",
       "4               2  Afghanistan       5058  Enteric Fermentation          7225   \n",
       "...           ...          ...        ...                   ...           ...   \n",
       "523656       5873         OECD       1709    Agricultural Soils          7243   \n",
       "523657       5873         OECD       1709    Agricultural Soils          7243   \n",
       "523658       5873         OECD       1709    Agricultural Soils          7243   \n",
       "523659       5873         OECD       1709    Agricultural Soils          7243   \n",
       "523660       5873         OECD       1709    Agricultural Soils          7243   \n",
       "\n",
       "                           element  year_code  year       unit        value  \\\n",
       "0                    CH4 emissions       1961  1961  gigagrams     240.6831   \n",
       "1                    CH4 emissions       1962  1962  gigagrams     245.3106   \n",
       "2                    CH4 emissions       1963  1963  gigagrams     255.8285   \n",
       "3                    CH4 emissions       1964  1964  gigagrams     259.0650   \n",
       "4                    CH4 emissions       1965  1965  gigagrams     265.5980   \n",
       "...                            ...        ...   ...        ...          ...   \n",
       "523656  Emissions (CO2eq) from N2O       2016  2016  gigagrams  515243.7721   \n",
       "523657  Emissions (CO2eq) from N2O       2017  2017  gigagrams  516924.3036   \n",
       "523658  Emissions (CO2eq) from N2O       2018  2018  gigagrams  513827.4768   \n",
       "523659  Emissions (CO2eq) from N2O       2030  2030  gigagrams  524388.0749   \n",
       "523660  Emissions (CO2eq) from N2O       2050  2050  gigagrams  541183.0634   \n",
       "\n",
       "       flag  note  \n",
       "0         A   NaN  \n",
       "1         A   NaN  \n",
       "2         A   NaN  \n",
       "3         A   NaN  \n",
       "4         A   NaN  \n",
       "...     ...   ...  \n",
       "523656    A   NaN  \n",
       "523657    A   NaN  \n",
       "523658    A   NaN  \n",
       "523659    A   NaN  \n",
       "523660    A   NaN  \n",
       "\n",
       "[523661 rows x 12 columns]"
      ]
     },
     "execution_count": 8,
     "metadata": {},
     "output_type": "execute_result"
    }
   ],
   "source": [
    "df_emissions"
   ]
  },
  {
   "cell_type": "code",
   "execution_count": 39,
   "id": "informational-marble",
   "metadata": {},
   "outputs": [
    {
     "data": {
      "text/plain": [
       "(523661, 12)"
      ]
     },
     "execution_count": 39,
     "metadata": {},
     "output_type": "execute_result"
    }
   ],
   "source": [
    "df_emissions.shape"
   ]
  },
  {
   "cell_type": "code",
   "execution_count": 9,
   "id": "continuous-drive",
   "metadata": {},
   "outputs": [
    {
     "data": {
      "text/plain": [
       "array(['Enteric Fermentation', 'Manure Management', 'Rice Cultivation',\n",
       "       'Synthetic Fertilizers', 'Manure applied to Soils',\n",
       "       'Manure left on Pasture', 'Crop Residues',\n",
       "       'Burning - Crop residues', 'Burning - Savanna',\n",
       "       'Agriculture total', 'Agricultural Soils',\n",
       "       'Cultivation of Organic Soils'], dtype=object)"
      ]
     },
     "execution_count": 9,
     "metadata": {},
     "output_type": "execute_result"
    }
   ],
   "source": [
    "df_emissions['item'].unique()"
   ]
  },
  {
   "cell_type": "code",
   "execution_count": 10,
   "id": "artistic-patent",
   "metadata": {},
   "outputs": [
    {
     "data": {
      "text/plain": [
       "array([5058, 5059, 5060, 5061, 5062, 5063, 5064, 5066, 5067, 1711, 1709,\n",
       "       6759])"
      ]
     },
     "execution_count": 10,
     "metadata": {},
     "output_type": "execute_result"
    }
   ],
   "source": [
    "df_emissions['item_code'].unique()"
   ]
  },
  {
   "cell_type": "markdown",
   "id": "described-windsor",
   "metadata": {},
   "source": [
    "# FAO - Definitions and standards"
   ]
  },
  {
   "cell_type": "code",
   "execution_count": 7,
   "id": "fleet-questionnaire",
   "metadata": {},
   "outputs": [],
   "source": [
    "df_def_and_stand = pd.read_csv(\"data/FAOSTAT_data_6-28-2021.csv\")"
   ]
  },
  {
   "cell_type": "code",
   "execution_count": 9,
   "id": "useful-terrorism",
   "metadata": {},
   "outputs": [
    {
     "data": {
      "text/plain": [
       "Index(['Domain Code', 'Domain', 'Item Code', 'Item', 'Description', 'HS Code',\n",
       "       'HS07 Code', 'HS12 Code', 'CPC Code'],\n",
       "      dtype='object')"
      ]
     },
     "execution_count": 9,
     "metadata": {},
     "output_type": "execute_result"
    }
   ],
   "source": [
    "df_def_and_stand.columns"
   ]
  },
  {
   "cell_type": "markdown",
   "id": "armed-homework",
   "metadata": {},
   "source": [
    "## Clean up the headers"
   ]
  },
  {
   "cell_type": "code",
   "execution_count": 10,
   "id": "direct-mason",
   "metadata": {},
   "outputs": [],
   "source": [
    "# make a list column names\n",
    "cols = df_def_and_stand.columns.tolist()\n",
    "# replace space with _\n",
    "cols = [col.replace(' ', '_').lower() for col in cols]\n",
    "# reassign new column names to dataframe\n",
    "df_def_and_stand.columns = cols"
   ]
  },
  {
   "cell_type": "markdown",
   "id": "grave-sweet",
   "metadata": {},
   "source": [
    "## Getting the data into SQL"
   ]
  },
  {
   "cell_type": "code",
   "execution_count": 27,
   "id": "banned-paint",
   "metadata": {},
   "outputs": [
    {
     "name": "stdout",
     "output_type": "stream",
     "text": [
      "<class 'pandas.core.frame.DataFrame'>\n",
      "RangeIndex: 4348 entries, 0 to 4347\n",
      "Data columns (total 9 columns):\n",
      " #   Column       Non-Null Count  Dtype  \n",
      "---  ------       --------------  -----  \n",
      " 0   domain_code  4348 non-null   object \n",
      " 1   domain       4348 non-null   object \n",
      " 2   item_code    4348 non-null   int64  \n",
      " 3   item         4348 non-null   object \n",
      " 4   description  3558 non-null   object \n",
      " 5   hs_code      11 non-null     float64\n",
      " 6   hs07_code    2917 non-null   object \n",
      " 7   hs12_code    2917 non-null   object \n",
      " 8   cpc_code     3115 non-null   object \n",
      "dtypes: float64(1), int64(1), object(7)\n",
      "memory usage: 305.8+ KB\n"
     ]
    }
   ],
   "source": [
    "df_def_and_stand.info()"
   ]
  },
  {
   "cell_type": "code",
   "execution_count": 29,
   "id": "bizarre-component",
   "metadata": {},
   "outputs": [
    {
     "data": {
      "text/plain": [
       "<sqlalchemy.engine.result.ResultProxy at 0x7f87995109d0>"
      ]
     },
     "execution_count": 29,
     "metadata": {},
     "output_type": "execute_result"
    }
   ],
   "source": [
    "engine.execute(\"CREATE TABLE IF NOT EXISTS public.agri_fao_definition (domain_code VARCHAR, domain VARCHAR, item_code INTEGER, item VARCHAR, description VARCHAR, hs_code FLOAT, hs07_code VARCHAR, hs12_code VARCHAR, cpc_code VARCHAR);\")"
   ]
  },
  {
   "cell_type": "code",
   "execution_count": 31,
   "id": "incoming-gardening",
   "metadata": {},
   "outputs": [
    {
     "name": "stdout",
     "output_type": "stream",
     "text": [
      "done uploading\n"
     ]
    }
   ],
   "source": [
    "# Specify which table within your database you want to push your data to. Here: 'agri_fao_definitions'\n",
    "# If the specified table doesn't exist yet, it will be created\n",
    "# With 'append', your data will be appended to the already existing data within the table.\n",
    "\n",
    "df_def_and_stand.to_sql('agri_fao_definition', engine, index=False, if_exists=\"append\", \n",
    "                  method='multi', chunksize=5000)\n",
    "print(f'done uploading')"
   ]
  },
  {
   "cell_type": "markdown",
   "id": "regulated-yesterday",
   "metadata": {},
   "source": [
    "## EDA 1 - Getting to know the data"
   ]
  },
  {
   "cell_type": "code",
   "execution_count": 11,
   "id": "rubber-newman",
   "metadata": {},
   "outputs": [
    {
     "data": {
      "text/html": [
       "<div>\n",
       "<style scoped>\n",
       "    .dataframe tbody tr th:only-of-type {\n",
       "        vertical-align: middle;\n",
       "    }\n",
       "\n",
       "    .dataframe tbody tr th {\n",
       "        vertical-align: top;\n",
       "    }\n",
       "\n",
       "    .dataframe thead th {\n",
       "        text-align: right;\n",
       "    }\n",
       "</style>\n",
       "<table border=\"1\" class=\"dataframe\">\n",
       "  <thead>\n",
       "    <tr style=\"text-align: right;\">\n",
       "      <th></th>\n",
       "      <th>domain_code</th>\n",
       "      <th>domain</th>\n",
       "      <th>item_code</th>\n",
       "      <th>item</th>\n",
       "      <th>description</th>\n",
       "      <th>hs_code</th>\n",
       "      <th>hs07_code</th>\n",
       "      <th>hs12_code</th>\n",
       "      <th>cpc_code</th>\n",
       "    </tr>\n",
       "  </thead>\n",
       "  <tbody>\n",
       "    <tr>\n",
       "      <th>0</th>\n",
       "      <td>EI</td>\n",
       "      <td>Agri-Environmental Indicators: Emissions inten...</td>\n",
       "      <td>1718</td>\n",
       "      <td>Cereals excluding rice</td>\n",
       "      <td>NaN</td>\n",
       "      <td>NaN</td>\n",
       "      <td>NaN</td>\n",
       "      <td>NaN</td>\n",
       "      <td>NaN</td>\n",
       "    </tr>\n",
       "    <tr>\n",
       "      <th>1</th>\n",
       "      <td>EI</td>\n",
       "      <td>Agri-Environmental Indicators: Emissions inten...</td>\n",
       "      <td>1062</td>\n",
       "      <td>Eggs, hen, in shell</td>\n",
       "      <td>Weight in shell.</td>\n",
       "      <td>NaN</td>\n",
       "      <td>040700</td>\n",
       "      <td>040711, 040721, 040790</td>\n",
       "      <td>0231</td>\n",
       "    </tr>\n",
       "    <tr>\n",
       "      <th>2</th>\n",
       "      <td>EI</td>\n",
       "      <td>Agri-Environmental Indicators: Emissions inten...</td>\n",
       "      <td>947</td>\n",
       "      <td>Meat, buffalo</td>\n",
       "      <td>Fresh, chilled or frozen, with bone in or bone...</td>\n",
       "      <td>NaN</td>\n",
       "      <td>020110, 020120, 020130, 020210, 020220, 020230</td>\n",
       "      <td>020110, 020120, 020130, 020210, 020220, 020230</td>\n",
       "      <td>21112</td>\n",
       "    </tr>\n",
       "    <tr>\n",
       "      <th>3</th>\n",
       "      <td>EI</td>\n",
       "      <td>Agri-Environmental Indicators: Emissions inten...</td>\n",
       "      <td>867</td>\n",
       "      <td>Meat, cattle</td>\n",
       "      <td>Meat of bovine animals, fresh, chilled or froz...</td>\n",
       "      <td>NaN</td>\n",
       "      <td>020110, 020120, 020210, 020220</td>\n",
       "      <td>020110, 020120, 020210, 020220</td>\n",
       "      <td>21111.01</td>\n",
       "    </tr>\n",
       "    <tr>\n",
       "      <th>4</th>\n",
       "      <td>EI</td>\n",
       "      <td>Agri-Environmental Indicators: Emissions inten...</td>\n",
       "      <td>1058</td>\n",
       "      <td>Meat, chicken</td>\n",
       "      <td>Fresh, chilled or frozen. May include all type...</td>\n",
       "      <td>NaN</td>\n",
       "      <td>020711, 020712, 020713, 020714, 020732, 020733...</td>\n",
       "      <td>020711, 020712, 020713, 020714, 020760</td>\n",
       "      <td>21121</td>\n",
       "    </tr>\n",
       "    <tr>\n",
       "      <th>...</th>\n",
       "      <td>...</td>\n",
       "      <td>...</td>\n",
       "      <td>...</td>\n",
       "      <td>...</td>\n",
       "      <td>...</td>\n",
       "      <td>...</td>\n",
       "      <td>...</td>\n",
       "      <td>...</td>\n",
       "      <td>...</td>\n",
       "    </tr>\n",
       "    <tr>\n",
       "      <th>4343</th>\n",
       "      <td>TI</td>\n",
       "      <td>Trade: Trade Indices</td>\n",
       "      <td>988</td>\n",
       "      <td>Wool, degreased</td>\n",
       "      <td>Includes scoured and carbonized, but does not ...</td>\n",
       "      <td>NaN</td>\n",
       "      <td>510121, 510129, 510130</td>\n",
       "      <td>510121, 510129, 510130</td>\n",
       "      <td>26130</td>\n",
       "    </tr>\n",
       "    <tr>\n",
       "      <th>4344</th>\n",
       "      <td>TI</td>\n",
       "      <td>Trade: Trade Indices</td>\n",
       "      <td>987</td>\n",
       "      <td>Wool, greasy</td>\n",
       "      <td>A natural fibre taken from sheep or lambs. Inc...</td>\n",
       "      <td>NaN</td>\n",
       "      <td>510111, 510119</td>\n",
       "      <td>510111, 510119</td>\n",
       "      <td>02941</td>\n",
       "    </tr>\n",
       "    <tr>\n",
       "      <th>4345</th>\n",
       "      <td>TI</td>\n",
       "      <td>Trade: Trade Indices</td>\n",
       "      <td>1009</td>\n",
       "      <td>Wool, hair waste</td>\n",
       "      <td>Noils of wool or animal hair not garnetted; ot...</td>\n",
       "      <td>NaN</td>\n",
       "      <td>510310, 510320, 510330</td>\n",
       "      <td>510310, 510320, 510330</td>\n",
       "      <td>F1009</td>\n",
       "    </tr>\n",
       "    <tr>\n",
       "      <th>4346</th>\n",
       "      <td>TI</td>\n",
       "      <td>Trade: Trade Indices</td>\n",
       "      <td>891</td>\n",
       "      <td>Yoghurt</td>\n",
       "      <td>A fermented milk food.</td>\n",
       "      <td>NaN</td>\n",
       "      <td>040310</td>\n",
       "      <td>040310</td>\n",
       "      <td>22230.01</td>\n",
       "    </tr>\n",
       "    <tr>\n",
       "      <th>4347</th>\n",
       "      <td>TI</td>\n",
       "      <td>Trade: Trade Indices</td>\n",
       "      <td>892</td>\n",
       "      <td>Yoghurt, concentrated or not</td>\n",
       "      <td>Includes additives such as sugar, flavouring m...</td>\n",
       "      <td>NaN</td>\n",
       "      <td>040310</td>\n",
       "      <td>040310</td>\n",
       "      <td>22230.02</td>\n",
       "    </tr>\n",
       "  </tbody>\n",
       "</table>\n",
       "<p>4348 rows × 9 columns</p>\n",
       "</div>"
      ],
      "text/plain": [
       "     domain_code                                             domain  \\\n",
       "0             EI  Agri-Environmental Indicators: Emissions inten...   \n",
       "1             EI  Agri-Environmental Indicators: Emissions inten...   \n",
       "2             EI  Agri-Environmental Indicators: Emissions inten...   \n",
       "3             EI  Agri-Environmental Indicators: Emissions inten...   \n",
       "4             EI  Agri-Environmental Indicators: Emissions inten...   \n",
       "...          ...                                                ...   \n",
       "4343          TI                               Trade: Trade Indices   \n",
       "4344          TI                               Trade: Trade Indices   \n",
       "4345          TI                               Trade: Trade Indices   \n",
       "4346          TI                               Trade: Trade Indices   \n",
       "4347          TI                               Trade: Trade Indices   \n",
       "\n",
       "      item_code                          item  \\\n",
       "0          1718        Cereals excluding rice   \n",
       "1          1062           Eggs, hen, in shell   \n",
       "2           947                 Meat, buffalo   \n",
       "3           867                  Meat, cattle   \n",
       "4          1058                 Meat, chicken   \n",
       "...         ...                           ...   \n",
       "4343        988               Wool, degreased   \n",
       "4344        987                  Wool, greasy   \n",
       "4345       1009              Wool, hair waste   \n",
       "4346        891                       Yoghurt   \n",
       "4347        892  Yoghurt, concentrated or not   \n",
       "\n",
       "                                            description  hs_code  \\\n",
       "0                                                   NaN      NaN   \n",
       "1                                      Weight in shell.      NaN   \n",
       "2     Fresh, chilled or frozen, with bone in or bone...      NaN   \n",
       "3     Meat of bovine animals, fresh, chilled or froz...      NaN   \n",
       "4     Fresh, chilled or frozen. May include all type...      NaN   \n",
       "...                                                 ...      ...   \n",
       "4343  Includes scoured and carbonized, but does not ...      NaN   \n",
       "4344  A natural fibre taken from sheep or lambs. Inc...      NaN   \n",
       "4345  Noils of wool or animal hair not garnetted; ot...      NaN   \n",
       "4346                             A fermented milk food.      NaN   \n",
       "4347  Includes additives such as sugar, flavouring m...      NaN   \n",
       "\n",
       "                                              hs07_code  \\\n",
       "0                                                   NaN   \n",
       "1                                                040700   \n",
       "2        020110, 020120, 020130, 020210, 020220, 020230   \n",
       "3                        020110, 020120, 020210, 020220   \n",
       "4     020711, 020712, 020713, 020714, 020732, 020733...   \n",
       "...                                                 ...   \n",
       "4343                             510121, 510129, 510130   \n",
       "4344                                     510111, 510119   \n",
       "4345                             510310, 510320, 510330   \n",
       "4346                                             040310   \n",
       "4347                                             040310   \n",
       "\n",
       "                                           hs12_code  cpc_code  \n",
       "0                                                NaN       NaN  \n",
       "1                             040711, 040721, 040790      0231  \n",
       "2     020110, 020120, 020130, 020210, 020220, 020230     21112  \n",
       "3                     020110, 020120, 020210, 020220  21111.01  \n",
       "4             020711, 020712, 020713, 020714, 020760     21121  \n",
       "...                                              ...       ...  \n",
       "4343                          510121, 510129, 510130     26130  \n",
       "4344                                  510111, 510119     02941  \n",
       "4345                          510310, 510320, 510330     F1009  \n",
       "4346                                          040310  22230.01  \n",
       "4347                                          040310  22230.02  \n",
       "\n",
       "[4348 rows x 9 columns]"
      ]
     },
     "execution_count": 11,
     "metadata": {},
     "output_type": "execute_result"
    }
   ],
   "source": [
    "df_def_and_stand"
   ]
  },
  {
   "cell_type": "code",
   "execution_count": 12,
   "id": "occupied-northeast",
   "metadata": {},
   "outputs": [
    {
     "data": {
      "text/plain": [
       "(4348, 9)"
      ]
     },
     "execution_count": 12,
     "metadata": {},
     "output_type": "execute_result"
    }
   ],
   "source": [
    "df_def_and_stand.shape"
   ]
  },
  {
   "cell_type": "code",
   "execution_count": 13,
   "id": "supported-federal",
   "metadata": {},
   "outputs": [
    {
     "name": "stdout",
     "output_type": "stream",
     "text": [
      "<class 'pandas.core.frame.DataFrame'>\n",
      "RangeIndex: 4348 entries, 0 to 4347\n",
      "Data columns (total 9 columns):\n",
      " #   Column       Non-Null Count  Dtype  \n",
      "---  ------       --------------  -----  \n",
      " 0   domain_code  4348 non-null   object \n",
      " 1   domain       4348 non-null   object \n",
      " 2   item_code    4348 non-null   int64  \n",
      " 3   item         4348 non-null   object \n",
      " 4   description  3558 non-null   object \n",
      " 5   hs_code      11 non-null     float64\n",
      " 6   hs07_code    2917 non-null   object \n",
      " 7   hs12_code    2917 non-null   object \n",
      " 8   cpc_code     3115 non-null   object \n",
      "dtypes: float64(1), int64(1), object(7)\n",
      "memory usage: 305.8+ KB\n"
     ]
    }
   ],
   "source": [
    "df_def_and_stand.info()"
   ]
  },
  {
   "cell_type": "code",
   "execution_count": null,
   "id": "jewish-assumption",
   "metadata": {},
   "outputs": [],
   "source": []
  },
  {
   "cell_type": "markdown",
   "id": "starting-asian",
   "metadata": {},
   "source": [
    "## Recipes for foodprint"
   ]
  },
  {
   "cell_type": "code",
   "execution_count": 3,
   "id": "compound-moisture",
   "metadata": {},
   "outputs": [],
   "source": [
    "df_foodprint_recipes = pd.read_table(\"data/recipes_foodprint.tsv\")"
   ]
  },
  {
   "cell_type": "markdown",
   "id": "german-chance",
   "metadata": {},
   "source": [
    "### Getting the data into SQL"
   ]
  },
  {
   "cell_type": "code",
   "execution_count": 4,
   "id": "fundamental-ordering",
   "metadata": {},
   "outputs": [
    {
     "name": "stdout",
     "output_type": "stream",
     "text": [
      "<class 'pandas.core.frame.DataFrame'>\n",
      "RangeIndex: 188 entries, 0 to 187\n",
      "Data columns (total 8 columns):\n",
      " #   Column                      Non-Null Count  Dtype  \n",
      "---  ------                      --------------  -----  \n",
      " 0   food                        188 non-null    object \n",
      " 1   recipe_zwiebelkuchen        7 non-null      float64\n",
      " 2   recipe_wiener_schnitzel     0 non-null      float64\n",
      " 3   recipe_bratkartoffeln       4 non-null      float64\n",
      " 4   recipe_spaghetti_bolognese  7 non-null      float64\n",
      " 5   recipe_pizza                8 non-null      float64\n",
      " 6   recipe_kohlroulade          0 non-null      float64\n",
      " 7   recipe_wurststulle          3 non-null      float64\n",
      "dtypes: float64(7), object(1)\n",
      "memory usage: 11.9+ KB\n"
     ]
    }
   ],
   "source": [
    "df_foodprint_recipes.info()"
   ]
  },
  {
   "cell_type": "code",
   "execution_count": 5,
   "id": "stupid-bangkok",
   "metadata": {},
   "outputs": [
    {
     "name": "stdout",
     "output_type": "stream",
     "text": [
      "done uploading\n"
     ]
    }
   ],
   "source": [
    "# Specify which table within your database you want to push your data to. Here: 'agri_fao_emissions'\n",
    "# If the specified table doesn't exist yet, it will be created\n",
    "# With 'append', your data will be appended to the already existing data within the table.\n",
    "\n",
    "df_foodprint_recipes.to_sql('agri_foodprint_recipes', engine, index=False, if_exists=\"append\", \n",
    "                  method='multi', chunksize=5000)\n",
    "print(f'done uploading')"
   ]
  }
 ],
 "metadata": {
  "kernelspec": {
   "display_name": "Python 3",
   "language": "python",
   "name": "python3"
  },
  "language_info": {
   "codemirror_mode": {
    "name": "ipython",
    "version": 3
   },
   "file_extension": ".py",
   "mimetype": "text/x-python",
   "name": "python",
   "nbconvert_exporter": "python",
   "pygments_lexer": "ipython3",
   "version": "3.8.5"
  }
 },
 "nbformat": 4,
 "nbformat_minor": 5
}
