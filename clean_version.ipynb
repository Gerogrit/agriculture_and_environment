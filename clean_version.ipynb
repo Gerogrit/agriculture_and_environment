{
 "cells": [
  {
   "cell_type": "markdown",
   "id": "compressed-former",
   "metadata": {},
   "source": [
    "# The Impact of Agriculture on CO2-Emissions"
   ]
  },
  {
   "cell_type": "markdown",
   "id": "spatial-method",
   "metadata": {},
   "source": [
    "## Setup"
   ]
  },
  {
   "cell_type": "code",
   "execution_count": 14,
   "id": "fluid-virginia",
   "metadata": {},
   "outputs": [],
   "source": [
    "# For EDA and getting Data\n",
    "import pandas as pd\n",
    "\n",
    "# For getting Data into SQL\n",
    "import requests\n",
    "from configdef import *\n",
    "from sqlalchemy import exc #SQLAlchemy provides a nice “Pythonic” way of interacting with databases.\n",
    "from sqlalchemy import event"
   ]
  },
  {
   "cell_type": "code",
   "execution_count": 15,
   "id": "compatible-imperial",
   "metadata": {},
   "outputs": [
    {
     "name": "stdout",
     "output_type": "stream",
     "text": [
      "Postgres Database connection successful\n"
     ]
    }
   ],
   "source": [
    "# Establish db connection\n",
    "\n",
    "# Get connection details from configdef file into a list\n",
    "params = config(section='postgres')\n",
    "\n",
    "# Use sql alchemy to create connection to database, which is contained within the engine object\n",
    "engine = pg_engine_connection(**params)\n",
    "\n",
    "# Cleans up unnecessary database connections\n",
    "engine.dispose()"
   ]
  },
  {
   "cell_type": "markdown",
   "id": "alert-flooring",
   "metadata": {},
   "source": [
    "## ifeu environment foodprint"
   ]
  },
  {
   "cell_type": "code",
   "execution_count": 33,
   "id": "integrated-current",
   "metadata": {},
   "outputs": [],
   "source": [
    "df_foodprint = pd.read_table(\"data/ifeu_environment_foodprint.tsv\")"
   ]
  },
  {
   "cell_type": "markdown",
   "id": "executive-friendship",
   "metadata": {},
   "source": [
    "### Getting the data into SQL"
   ]
  },
  {
   "cell_type": "code",
   "execution_count": 34,
   "id": "bronze-belle",
   "metadata": {},
   "outputs": [
    {
     "name": "stdout",
     "output_type": "stream",
     "text": [
      "<class 'pandas.core.frame.DataFrame'>\n",
      "RangeIndex: 187 entries, 0 to 186\n",
      "Data columns (total 8 columns):\n",
      " #   Column                    Non-Null Count  Dtype  \n",
      "---  ------                    --------------  -----  \n",
      " 0   food                      187 non-null    object \n",
      " 1   co2_footprint             186 non-null    float64\n",
      " 2   category                  187 non-null    object \n",
      " 3   phosphate_rock_footprint  35 non-null     float64\n",
      " 4   land_use_footprint        35 non-null     float64\n",
      " 5   water_footprint           35 non-null     object \n",
      " 6   energy_demand             34 non-null     float64\n",
      " 7   comments                  6 non-null      object \n",
      "dtypes: float64(4), object(4)\n",
      "memory usage: 11.8+ KB\n"
     ]
    }
   ],
   "source": [
    "df_foodprint.info()"
   ]
  },
  {
   "cell_type": "code",
   "execution_count": 37,
   "id": "capable-grace",
   "metadata": {},
   "outputs": [
    {
     "name": "stdout",
     "output_type": "stream",
     "text": [
      "done uploading\n"
     ]
    }
   ],
   "source": [
    "# Specify which table within your database you want to push your data to. Here: 'agri_fao_emissions'\n",
    "# If the specified table doesn't exist yet, it will be created\n",
    "# With 'append', your data will be appended to the already existing data within the table.\n",
    "\n",
    "df_foodprint.to_sql('agri_ifeu_foodprint', engine, index=False, if_exists=\"append\", \n",
    "                  method='multi', chunksize=5000)\n",
    "print(f'done uploading')"
   ]
  },
  {
   "cell_type": "markdown",
   "id": "widespread-motion",
   "metadata": {},
   "source": [
    "## FAO - Emissions"
   ]
  },
  {
   "cell_type": "code",
   "execution_count": 22,
   "id": "coupled-review",
   "metadata": {},
   "outputs": [],
   "source": [
    "df_emissions = pd.read_csv(\"data/Emissions_Agriculture_Agriculture_total_E_All_Data_(Normalized).csv\")"
   ]
  },
  {
   "cell_type": "code",
   "execution_count": 23,
   "id": "designing-intensity",
   "metadata": {},
   "outputs": [
    {
     "data": {
      "text/plain": [
       "Index(['Area Code', 'Area', 'Item Code', 'Item', 'Element Code', 'Element',\n",
       "       'Year Code', 'Year', 'Unit', 'Value', 'Flag', 'Note'],\n",
       "      dtype='object')"
      ]
     },
     "execution_count": 23,
     "metadata": {},
     "output_type": "execute_result"
    }
   ],
   "source": [
    "df_emissions.columns"
   ]
  },
  {
   "cell_type": "markdown",
   "id": "labeled-capability",
   "metadata": {},
   "source": [
    "### Clean up the headers"
   ]
  },
  {
   "cell_type": "code",
   "execution_count": 24,
   "id": "tough-spank",
   "metadata": {},
   "outputs": [],
   "source": [
    "# make a list column names\n",
    "cols = df_emissions.columns.tolist()\n",
    "# replace space with _\n",
    "cols = [col.replace(' ', '_').lower() for col in cols]\n",
    "# reassign new column names to dataframe\n",
    "df_emissions.columns = cols"
   ]
  },
  {
   "cell_type": "markdown",
   "id": "mobile-latino",
   "metadata": {},
   "source": [
    "### Getting the data into SQL"
   ]
  },
  {
   "cell_type": "code",
   "execution_count": 25,
   "id": "political-graduation",
   "metadata": {},
   "outputs": [
    {
     "name": "stdout",
     "output_type": "stream",
     "text": [
      "<class 'pandas.core.frame.DataFrame'>\n",
      "RangeIndex: 523661 entries, 0 to 523660\n",
      "Data columns (total 12 columns):\n",
      " #   Column        Non-Null Count   Dtype  \n",
      "---  ------        --------------   -----  \n",
      " 0   area_code     523661 non-null  int64  \n",
      " 1   area          523661 non-null  object \n",
      " 2   item_code     523661 non-null  int64  \n",
      " 3   item          523661 non-null  object \n",
      " 4   element_code  523661 non-null  int64  \n",
      " 5   element       523661 non-null  object \n",
      " 6   year_code     523661 non-null  int64  \n",
      " 7   year          523661 non-null  int64  \n",
      " 8   unit          523661 non-null  object \n",
      " 9   value         523661 non-null  float64\n",
      " 10  flag          523661 non-null  object \n",
      " 11  note          0 non-null       float64\n",
      "dtypes: float64(2), int64(5), object(5)\n",
      "memory usage: 47.9+ MB\n"
     ]
    }
   ],
   "source": [
    "df_emissions.info()"
   ]
  },
  {
   "cell_type": "code",
   "execution_count": 26,
   "id": "planned-portland",
   "metadata": {},
   "outputs": [
    {
     "name": "stdout",
     "output_type": "stream",
     "text": [
      "done uploading\n"
     ]
    }
   ],
   "source": [
    "# Specify which table within your database you want to push your data to. Here: 'agri_fao_emissions'\n",
    "# If the specified table doesn't exist yet, it will be created\n",
    "# With 'append', your data will be appended to the already existing data within the table.\n",
    "\n",
    "df_emissions.to_sql('agri_fao_emissions', engine, index=False, if_exists=\"append\", \n",
    "                  method='multi', chunksize=5000)\n",
    "print(f'done uploading')"
   ]
  },
  {
   "cell_type": "markdown",
   "id": "appropriate-increase",
   "metadata": {},
   "source": [
    "## FAO - Definitions and standards"
   ]
  },
  {
   "cell_type": "code",
   "execution_count": 7,
   "id": "written-summer",
   "metadata": {},
   "outputs": [],
   "source": [
    "df_def_and_stand = pd.read_csv(\"data/FAOSTAT_data_6-28-2021.csv\")"
   ]
  },
  {
   "cell_type": "code",
   "execution_count": 9,
   "id": "smart-white",
   "metadata": {},
   "outputs": [
    {
     "data": {
      "text/plain": [
       "Index(['Domain Code', 'Domain', 'Item Code', 'Item', 'Description', 'HS Code',\n",
       "       'HS07 Code', 'HS12 Code', 'CPC Code'],\n",
       "      dtype='object')"
      ]
     },
     "execution_count": 9,
     "metadata": {},
     "output_type": "execute_result"
    }
   ],
   "source": [
    "df_def_and_stand.columns"
   ]
  },
  {
   "cell_type": "markdown",
   "id": "sporting-sierra",
   "metadata": {},
   "source": [
    "### Clean up the headers"
   ]
  },
  {
   "cell_type": "code",
   "execution_count": 10,
   "id": "neural-mauritius",
   "metadata": {},
   "outputs": [],
   "source": [
    "# make a list column names\n",
    "cols = df_def_and_stand.columns.tolist()\n",
    "# replace space with _\n",
    "cols = [col.replace(' ', '_').lower() for col in cols]\n",
    "# reassign new column names to dataframe\n",
    "df_def_and_stand.columns = cols"
   ]
  },
  {
   "cell_type": "markdown",
   "id": "uniform-raleigh",
   "metadata": {},
   "source": [
    "### Getting the data into SQL"
   ]
  },
  {
   "cell_type": "code",
   "execution_count": 27,
   "id": "moved-yugoslavia",
   "metadata": {},
   "outputs": [
    {
     "name": "stdout",
     "output_type": "stream",
     "text": [
      "<class 'pandas.core.frame.DataFrame'>\n",
      "RangeIndex: 4348 entries, 0 to 4347\n",
      "Data columns (total 9 columns):\n",
      " #   Column       Non-Null Count  Dtype  \n",
      "---  ------       --------------  -----  \n",
      " 0   domain_code  4348 non-null   object \n",
      " 1   domain       4348 non-null   object \n",
      " 2   item_code    4348 non-null   int64  \n",
      " 3   item         4348 non-null   object \n",
      " 4   description  3558 non-null   object \n",
      " 5   hs_code      11 non-null     float64\n",
      " 6   hs07_code    2917 non-null   object \n",
      " 7   hs12_code    2917 non-null   object \n",
      " 8   cpc_code     3115 non-null   object \n",
      "dtypes: float64(1), int64(1), object(7)\n",
      "memory usage: 305.8+ KB\n"
     ]
    }
   ],
   "source": [
    "df_def_and_stand.info()"
   ]
  },
  {
   "cell_type": "code",
   "execution_count": 31,
   "id": "exceptional-click",
   "metadata": {},
   "outputs": [
    {
     "name": "stdout",
     "output_type": "stream",
     "text": [
      "done uploading\n"
     ]
    }
   ],
   "source": [
    "# Specify which table within your database you want to push your data to. Here: 'agri_fao_definitions'\n",
    "# If the specified table doesn't exist yet, it will be created\n",
    "# With 'append', your data will be appended to the already existing data within the table.\n",
    "\n",
    "df_def_and_stand.to_sql('agri_fao_definition', engine, index=False, if_exists=\"append\", \n",
    "                  method='multi', chunksize=5000)\n",
    "print(f'done uploading')"
   ]
  }
 ],
 "metadata": {
  "kernelspec": {
   "display_name": "Python [conda env:agri_env] *",
   "language": "python",
   "name": "conda-env-agri_env-py"
  },
  "language_info": {
   "codemirror_mode": {
    "name": "ipython",
    "version": 3
   },
   "file_extension": ".py",
   "mimetype": "text/x-python",
   "name": "python",
   "nbconvert_exporter": "python",
   "pygments_lexer": "ipython3",
   "version": "3.8.5"
  }
 },
 "nbformat": 4,
 "nbformat_minor": 5
}
