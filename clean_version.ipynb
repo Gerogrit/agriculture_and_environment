{
 "cells": [
  {
   "cell_type": "markdown",
   "id": "compressed-former",
   "metadata": {},
   "source": [
    "# The Impact of Agriculture on CO2-Emissions"
   ]
  },
  {
   "cell_type": "markdown",
   "id": "spatial-method",
   "metadata": {},
   "source": [
    "## Setup"
   ]
  },
  {
   "cell_type": "code",
   "execution_count": 1,
   "id": "fluid-virginia",
   "metadata": {},
   "outputs": [],
   "source": [
    "# For EDA and getting Data\n",
    "import pandas as pd\n",
    "\n",
    "# For getting Data into SQL\n",
    "import requests\n",
    "from configdef import *\n",
    "from sqlalchemy import exc #SQLAlchemy provides a nice “Pythonic” way of interacting with databases.\n",
    "from sqlalchemy import event"
   ]
  },
  {
   "cell_type": "code",
   "execution_count": 2,
   "id": "compatible-imperial",
   "metadata": {},
   "outputs": [
    {
     "name": "stdout",
     "output_type": "stream",
     "text": [
      "Postgres Database connection successful\n"
     ]
    }
   ],
   "source": [
    "# Establish db connection\n",
    "\n",
    "# Get connection details from configdef file into a list\n",
    "params = config(section='postgres')\n",
    "\n",
    "# Use sql alchemy to create connection to database, which is contained within the engine object\n",
    "engine = pg_engine_connection(**params)\n",
    "\n",
    "# Cleans up unnecessary database connections\n",
    "engine.dispose()"
   ]
  },
  {
   "cell_type": "markdown",
   "id": "alert-flooring",
   "metadata": {},
   "source": [
    "## ifeu environment foodprint"
   ]
  },
  {
   "cell_type": "code",
   "execution_count": null,
   "id": "integrated-current",
   "metadata": {},
   "outputs": [],
   "source": [
    "df_foodprint = pd.read_table(\"data/ifeu_environment_foodprint.tsv\")"
   ]
  },
  {
   "cell_type": "markdown",
   "id": "executive-friendship",
   "metadata": {},
   "source": [
    "### Getting the data into SQL"
   ]
  },
  {
   "cell_type": "code",
   "execution_count": null,
   "id": "bronze-belle",
   "metadata": {},
   "outputs": [],
   "source": [
    "df_foodprint.info()"
   ]
  },
  {
   "cell_type": "code",
   "execution_count": null,
   "id": "capable-grace",
   "metadata": {},
   "outputs": [],
   "source": [
    "# Specify which table within your database you want to push your data to. Here: 'agri_fao_emissions'\n",
    "# If the specified table doesn't exist yet, it will be created\n",
    "# With 'append', your data will be appended to the already existing data within the table.\n",
    "\n",
    "df_foodprint.to_sql('agri_ifeu_foodprint', engine, index=False, \n",
    "                  method='multi', chunksize=5000)\n",
    "print(f'done uploading')"
   ]
  },
  {
   "cell_type": "markdown",
   "id": "widespread-motion",
   "metadata": {},
   "source": [
    "## FAO - Emissions"
   ]
  },
  {
   "cell_type": "code",
   "execution_count": null,
   "id": "coupled-review",
   "metadata": {},
   "outputs": [],
   "source": [
    "df_emissions = pd.read_csv(\"data/Emissions_Agriculture_Agriculture_total_E_All_Data_(Normalized).csv\")"
   ]
  },
  {
   "cell_type": "code",
   "execution_count": null,
   "id": "designing-intensity",
   "metadata": {},
   "outputs": [],
   "source": [
    "df_emissions.columns"
   ]
  },
  {
   "cell_type": "markdown",
   "id": "labeled-capability",
   "metadata": {},
   "source": [
    "### Clean up the headers"
   ]
  },
  {
   "cell_type": "code",
   "execution_count": null,
   "id": "tough-spank",
   "metadata": {},
   "outputs": [],
   "source": [
    "# make a list column names\n",
    "cols = df_emissions.columns.tolist()\n",
    "# replace space with _\n",
    "cols = [col.replace(' ', '_').lower() for col in cols]\n",
    "# reassign new column names to dataframe\n",
    "df_emissions.columns = cols"
   ]
  },
  {
   "cell_type": "markdown",
   "id": "mobile-latino",
   "metadata": {},
   "source": [
    "### Getting the data into SQL"
   ]
  },
  {
   "cell_type": "code",
   "execution_count": null,
   "id": "political-graduation",
   "metadata": {},
   "outputs": [],
   "source": [
    "df_emissions.info()"
   ]
  },
  {
   "cell_type": "code",
   "execution_count": null,
   "id": "planned-portland",
   "metadata": {},
   "outputs": [],
   "source": [
    "# Specify which table within your database you want to push your data to. Here: 'agri_fao_emissions'\n",
    "# If the specified table doesn't exist yet, it will be created\n",
    "# With 'append', your data will be appended to the already existing data within the table.\n",
    "\n",
    "df_emissions.to_sql('agri_fao_emissions', engine, index=False, if_exists=\"append\", \n",
    "                  method='multi', chunksize=5000)\n",
    "print(f'done uploading')"
   ]
  },
  {
   "cell_type": "markdown",
   "id": "appropriate-increase",
   "metadata": {},
   "source": [
    "## FAO - Definitions and standards"
   ]
  },
  {
   "cell_type": "code",
   "execution_count": null,
   "id": "written-summer",
   "metadata": {},
   "outputs": [],
   "source": [
    "df_def_and_stand = pd.read_csv(\"data/FAOSTAT_data_6-28-2021.csv\")"
   ]
  },
  {
   "cell_type": "code",
   "execution_count": null,
   "id": "smart-white",
   "metadata": {},
   "outputs": [],
   "source": [
    "df_def_and_stand.columns"
   ]
  },
  {
   "cell_type": "markdown",
   "id": "sporting-sierra",
   "metadata": {},
   "source": [
    "### Clean up the headers"
   ]
  },
  {
   "cell_type": "code",
   "execution_count": null,
   "id": "neural-mauritius",
   "metadata": {},
   "outputs": [],
   "source": [
    "# make a list column names\n",
    "cols = df_def_and_stand.columns.tolist()\n",
    "# replace space with _\n",
    "cols = [col.replace(' ', '_').lower() for col in cols]\n",
    "# reassign new column names to dataframe\n",
    "df_def_and_stand.columns = cols"
   ]
  },
  {
   "cell_type": "markdown",
   "id": "uniform-raleigh",
   "metadata": {},
   "source": [
    "### Getting the data into SQL"
   ]
  },
  {
   "cell_type": "code",
   "execution_count": null,
   "id": "moved-yugoslavia",
   "metadata": {},
   "outputs": [],
   "source": [
    "df_def_and_stand.info()"
   ]
  },
  {
   "cell_type": "code",
   "execution_count": null,
   "id": "exceptional-click",
   "metadata": {},
   "outputs": [],
   "source": [
    "# Specify which table within your database you want to push your data to. Here: 'agri_fao_definitions'\n",
    "# If the specified table doesn't exist yet, it will be created\n",
    "# With 'append', your data will be appended to the already existing data within the table.\n",
    "\n",
    "df_def_and_stand.to_sql('agri_fao_definition', engine, index=False, if_exists=\"append\", \n",
    "                  method='multi', chunksize=5000)\n",
    "print(f'done uploading')"
   ]
  },
  {
   "cell_type": "markdown",
   "id": "13d4f2a8-f76c-4080-9bc4-12066d10a107",
   "metadata": {},
   "source": [
    "## FAO Food Consumption"
   ]
  },
  {
   "cell_type": "code",
   "execution_count": null,
   "id": "d70c39ee-4176-4ea8-8988-a21500004ba1",
   "metadata": {},
   "outputs": [],
   "source": [
    "df_consumption = pd.read_csv(\"data/fao_food_balance_sheets.csv\")"
   ]
  },
  {
   "cell_type": "code",
   "execution_count": null,
   "id": "a73e96c4-07f3-4822-a95d-4430ebe9b1c3",
   "metadata": {},
   "outputs": [],
   "source": [
    "df_consumption.info()"
   ]
  },
  {
   "cell_type": "code",
   "execution_count": null,
   "id": "aad860e3-94dc-49bb-9336-ad163f5b02be",
   "metadata": {},
   "outputs": [],
   "source": [
    "df_consumption.columns"
   ]
  },
  {
   "cell_type": "code",
   "execution_count": null,
   "id": "de14e6fb-ac15-48a5-ac10-35f79550fb24",
   "metadata": {},
   "outputs": [],
   "source": [
    "df_consumption['Item'].unique()"
   ]
  },
  {
   "cell_type": "code",
   "execution_count": null,
   "id": "959e952d-f7aa-42e1-83aa-54e60bf219cb",
   "metadata": {},
   "outputs": [],
   "source": [
    "df_consumption['Item Code'].unique()"
   ]
  },
  {
   "cell_type": "markdown",
   "id": "c8e65e2c-7b58-469e-accd-cf84ca9b0a99",
   "metadata": {},
   "source": [
    "### Cleaning up the headers"
   ]
  },
  {
   "cell_type": "code",
   "execution_count": null,
   "id": "e264d145-4391-41b0-8510-c5af2cc5f5c8",
   "metadata": {},
   "outputs": [],
   "source": [
    "# make a list column names\n",
    "cols = df_consumption.columns.tolist()\n",
    "# replace space with _\n",
    "cols = [col.replace(' ', '_').lower() for col in cols]\n",
    "# reassign new column names to dataframe\n",
    "df_consumption.columns = cols"
   ]
  },
  {
   "cell_type": "markdown",
   "id": "c77c9a54-147c-4e26-8d09-6c94c7835afa",
   "metadata": {},
   "source": [
    "### Uploading the data to the database"
   ]
  },
  {
   "cell_type": "code",
   "execution_count": null,
   "id": "f9397087-e7dc-4cc5-985b-c89786c0f354",
   "metadata": {},
   "outputs": [],
   "source": [
    "# Specify which table within your database you want to push your data to. Here: 'agri_fao_definitions'\n",
    "# If the specified table doesn't exist yet, it will be created\n",
    "# With 'append', your data will be appended to the already existing data within the table.\n",
    "\n",
    "df_consumption.to_sql('agri_fao_consumption', engine, index=False, if_exists=\"append\", \n",
    "                  method='multi', chunksize=5000)\n",
    "print(f'done uploading')"
   ]
  },
  {
   "cell_type": "markdown",
   "id": "bcae460d-bcfa-4fa1-8960-8ee77d6b1b34",
   "metadata": {},
   "source": [
    "## UN World Population"
   ]
  },
  {
   "cell_type": "code",
   "execution_count": null,
   "id": "7f182ecf-3d95-40bb-826b-5e54dd29034d",
   "metadata": {},
   "outputs": [],
   "source": [
    "df_population = pd.read_csv(\"data/un_world_population.csv\")"
   ]
  },
  {
   "cell_type": "code",
   "execution_count": null,
   "id": "15b0082d-33a5-40fd-9e6b-00b258a91055",
   "metadata": {},
   "outputs": [],
   "source": [
    "df_population.info()"
   ]
  },
  {
   "cell_type": "markdown",
   "id": "3004d44d-fe8a-40d9-861f-c9515f34a11d",
   "metadata": {},
   "source": [
    "### Cleaning up the headers"
   ]
  },
  {
   "cell_type": "code",
   "execution_count": null,
   "id": "8b04fbd6-1fb5-4afc-82c8-5775cedfbaf2",
   "metadata": {},
   "outputs": [],
   "source": [
    "# make a list column names\n",
    "cols = df_population.columns.tolist()\n",
    "# replace space with _\n",
    "cols = [col.replace(' ', '_').lower() for col in cols]\n",
    "# reassign new column names to dataframe\n",
    "df_population.columns = cols"
   ]
  },
  {
   "cell_type": "markdown",
   "id": "80ac888d-a4ad-48df-9523-6a9c311c015a",
   "metadata": {},
   "source": [
    "### Uploading the data to the database"
   ]
  },
  {
   "cell_type": "code",
   "execution_count": null,
   "id": "118cd320-55c4-4a36-8044-cf1271bfc9b2",
   "metadata": {},
   "outputs": [],
   "source": [
    "# Specify which table within your database you want to push your data to. Here: 'agri_fao_definitions'\n",
    "# If the specified table doesn't exist yet, it will be created\n",
    "# With 'append', your data will be appended to the already existing data within the table.\n",
    "\n",
    "df_population.to_sql('agri_un_population', engine, index=False, if_exists=\"append\", \n",
    "                  method='multi', chunksize=5000)\n",
    "print(f'done uploading')"
   ]
  },
  {
   "cell_type": "markdown",
   "id": "42834b75-55eb-4e09-9339-4378e156ff6e",
   "metadata": {},
   "source": [
    "## DBV food consumption in Germany per food type in kg"
   ]
  },
  {
   "cell_type": "code",
   "execution_count": null,
   "id": "f1944388-94e4-4c95-8ecb-284705c68cae",
   "metadata": {},
   "outputs": [],
   "source": [
    "df_kg_capita = pd.read_csv(\"data/agri_dbv_consumption2.csv\")"
   ]
  },
  {
   "cell_type": "code",
   "execution_count": null,
   "id": "d3d2308f-8544-42ec-bb00-cdb186c1ac11",
   "metadata": {},
   "outputs": [],
   "source": [
    "df_kg_capita.info()"
   ]
  },
  {
   "cell_type": "markdown",
   "id": "0a8c19ea-55e0-464b-a821-ff726fcfe4d9",
   "metadata": {},
   "source": [
    "### Cleaning up the headers"
   ]
  },
  {
   "cell_type": "code",
   "execution_count": null,
   "id": "eff2fdfe-4d06-47bf-839a-210ec1c8e69c",
   "metadata": {},
   "outputs": [],
   "source": [
    "# make a list column names\n",
    "cols = df_kg_capita.columns.tolist()\n",
    "# replace space with _\n",
    "cols = [col.replace(' ', '_').lower() for col in cols]\n",
    "# reassign new column names to dataframe\n",
    "df_kg_capita.columns = cols"
   ]
  },
  {
   "cell_type": "markdown",
   "id": "d1b131a2-9a1f-4c5e-91b1-764898e4d490",
   "metadata": {},
   "source": [
    "### Upload to the database"
   ]
  },
  {
   "cell_type": "code",
   "execution_count": null,
   "id": "4712e769-6f96-483a-aeeb-cdcc56bb7250",
   "metadata": {},
   "outputs": [],
   "source": [
    "# Specify which table within your database you want to push your data to. Here: 'agri_fao_definitions'\n",
    "# If the specified table doesn't exist yet, it will be created\n",
    "# With 'append', your data will be appended to the already existing data within the table.\n",
    "\n",
    "df_kg_capita.to_sql('agri_dbv_consumption2', engine, index=False, if_exists=\"append\", \n",
    "                  method='multi', chunksize=5000)\n",
    "print(f'done uploading')"
   ]
  },
  {
   "cell_type": "markdown",
   "id": "6cba1734-557b-4a8d-b7cf-2fdf10d0850f",
   "metadata": {},
   "source": [
    "## GHG emissions by sector Germany 1990 - 2020 Umwelt Bundesamt"
   ]
  },
  {
   "cell_type": "code",
   "execution_count": null,
   "id": "bf35dbac-15b4-4f13-ab61-b01083b29aca",
   "metadata": {},
   "outputs": [],
   "source": [
    "df_emissions = pd.read_table(\"data/agri_umweltbundesamt_emissions.tsv\")"
   ]
  },
  {
   "cell_type": "code",
   "execution_count": null,
   "id": "307ddab3-7cdb-4100-a850-860677967dca",
   "metadata": {},
   "outputs": [],
   "source": [
    "df_emissions.info()"
   ]
  },
  {
   "cell_type": "code",
   "execution_count": null,
   "id": "e5729f6c-9173-4d82-b5b6-bed28bc3c475",
   "metadata": {},
   "outputs": [],
   "source": [
    "df_emissions.head()"
   ]
  },
  {
   "cell_type": "markdown",
   "id": "b36e7514-6b1a-4756-b283-6795d9cdb8cf",
   "metadata": {},
   "source": [
    "### Cleaning up the headers"
   ]
  },
  {
   "cell_type": "code",
   "execution_count": null,
   "id": "e930d16d-3c11-4c89-b257-08f416639555",
   "metadata": {},
   "outputs": [],
   "source": [
    "# make a list column names\n",
    "cols = df_emissions.columns.tolist()\n",
    "# replace space with _\n",
    "cols = [col.replace(' ', '_').lower() for col in cols]\n",
    "# reassign new column names to dataframe\n",
    "df_emissions.columns = cols"
   ]
  },
  {
   "cell_type": "markdown",
   "id": "d65fc330-f5ff-4d85-98c0-bee790b34999",
   "metadata": {},
   "source": [
    "### Upload to the database"
   ]
  },
  {
   "cell_type": "code",
   "execution_count": null,
   "id": "df44a34d-911e-4a25-98b1-d20ad3d74ab6",
   "metadata": {},
   "outputs": [],
   "source": [
    "# Specify which table within your database you want to push your data to. Here: 'agri_fao_definitions'\n",
    "# If the specified table doesn't exist yet, it will be created\n",
    "# With 'append', your data will be appended to the already existing data within the table.\n",
    "\n",
    "df_emissions.to_sql('agri_umweltbundesamt_emissions', engine, index=False, \n",
    "                  method='multi', chunksize=5000)\n",
    "print(f'done uploading')"
   ]
  },
  {
   "cell_type": "markdown",
   "id": "cca7e5fd-a7cb-45d6-a0e7-c6a4e709f8b4",
   "metadata": {},
   "source": [
    "## Chicken vs. Beef Comparison"
   ]
  },
  {
   "cell_type": "code",
   "execution_count": 15,
   "id": "aa345019-b504-40e6-85cb-496ddeb274b2",
   "metadata": {},
   "outputs": [],
   "source": [
    "df_chicken_beef = pd.read_table(\"data/agri_chicken_beef.tsv\")"
   ]
  },
  {
   "cell_type": "code",
   "execution_count": 16,
   "id": "509a1a0d-dccf-4192-ab2e-ae629b3320cf",
   "metadata": {},
   "outputs": [
    {
     "name": "stdout",
     "output_type": "stream",
     "text": [
      "<class 'pandas.core.frame.DataFrame'>\n",
      "RangeIndex: 4 entries, 0 to 3\n",
      "Data columns (total 3 columns):\n",
      " #   Column                                         Non-Null Count  Dtype  \n",
      "---  ------                                         --------------  -----  \n",
      " 0   CO2 emissions                                  4 non-null      object \n",
      " 1   Beef_average                                   4 non-null      float64\n",
      " 2   Chicken_with transport, storage and packaging  4 non-null      float64\n",
      "dtypes: float64(2), object(1)\n",
      "memory usage: 224.0+ bytes\n"
     ]
    }
   ],
   "source": [
    "df_chicken_beef.info()"
   ]
  },
  {
   "cell_type": "markdown",
   "id": "ca299d96-88ba-4832-8a1a-994b3fbf9d66",
   "metadata": {},
   "source": [
    "### Cleaning up headers"
   ]
  },
  {
   "cell_type": "code",
   "execution_count": 17,
   "id": "522c24f6-ba6c-4afd-9c73-1c9d7a6dd5ea",
   "metadata": {},
   "outputs": [],
   "source": [
    "# make a list column names\n",
    "cols = df_chicken_beef.columns.tolist()\n",
    "# replace space with _\n",
    "cols = [col.replace(' ', '_').lower() for col in cols]\n",
    "# reassign new column names to dataframe\n",
    "df_chicken_beef.columns = cols"
   ]
  },
  {
   "cell_type": "markdown",
   "id": "c8e6e0bc-d232-4398-b562-230ab6591190",
   "metadata": {},
   "source": [
    "### Upload to the database"
   ]
  },
  {
   "cell_type": "code",
   "execution_count": 18,
   "id": "57a14adc-6ab1-4031-b347-fc12c84c6e41",
   "metadata": {},
   "outputs": [
    {
     "name": "stdout",
     "output_type": "stream",
     "text": [
      "done uploading\n"
     ]
    }
   ],
   "source": [
    "# Specify which table within your database you want to push your data to. Here: 'agri_fao_definitions'\n",
    "# If the specified table doesn't exist yet, it will be created\n",
    "# With 'append', your data will be appended to the already existing data within the table.\n",
    "\n",
    "df_chicken_beef.to_sql('agri_chicken_beef', engine, index=False, \n",
    "                  method='multi', chunksize=5000)\n",
    "print(f'done uploading')"
   ]
  },
  {
   "cell_type": "code",
   "execution_count": null,
   "id": "24f97013-57e0-4085-90f2-260cdc48120f",
   "metadata": {},
   "outputs": [],
   "source": []
  }
 ],
 "metadata": {
  "kernelspec": {
   "display_name": "Python [conda env:agri_env] *",
   "language": "python",
   "name": "conda-env-agri_env-py"
  },
  "language_info": {
   "codemirror_mode": {
    "name": "ipython",
    "version": 3
   },
   "file_extension": ".py",
   "mimetype": "text/x-python",
   "name": "python",
   "nbconvert_exporter": "python",
   "pygments_lexer": "ipython3",
   "version": "3.8.5"
  }
 },
 "nbformat": 4,
 "nbformat_minor": 5
}
