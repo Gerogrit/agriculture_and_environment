{
 "cells": [
  {
   "cell_type": "markdown",
   "id": "sensitive-metabolism",
   "metadata": {},
   "source": [
    "# Set up the tools"
   ]
  },
  {
   "cell_type": "code",
   "execution_count": 4,
   "id": "miniature-repeat",
   "metadata": {},
   "outputs": [
    {
     "name": "stdout",
     "output_type": "stream",
     "text": [
      "Postgres Database connection successful\n"
     ]
    }
   ],
   "source": [
    "# Import all necessary libraries\n",
    "import pandas as pd\n",
    "import numpy as np\n",
    "import requests\n",
    "from zipfile import *\n",
    "from configdef import *\n",
    "from sqlalchemy import exc #SQLAlchemy provides a nice “Pythonic” way of interacting with databases.\n",
    "from sqlalchemy import event\n",
    "\n",
    "# Establish db connection\n",
    "\n",
    "# Get connection details from configdef file into a list\n",
    "params = config(section='postgres')\n",
    "\n",
    "# Use sql alchemy to create connection to database, which is contained within the engine object\n",
    "engine = pg_engine_connection(**params)\n",
    "\n",
    "# Cleans up unnecessary database connections\n",
    "engine.dispose()"
   ]
  },
  {
   "cell_type": "code",
   "execution_count": 6,
   "id": "female-mechanism",
   "metadata": {},
   "outputs": [
    {
     "data": {
      "text/plain": [
       "[('dauser',)]"
      ]
     },
     "execution_count": 6,
     "metadata": {},
     "output_type": "execute_result"
    }
   ],
   "source": [
    "engine.execute(\"SELECT user;\").fetchall()"
   ]
  },
  {
   "cell_type": "code",
   "execution_count": null,
   "id": "absent-myanmar",
   "metadata": {},
   "outputs": [],
   "source": []
  },
  {
   "cell_type": "markdown",
   "id": "knowing-notice",
   "metadata": {},
   "source": [
    "### Setup in DBeaver"
   ]
  },
  {
   "cell_type": "code",
   "execution_count": 5,
   "id": "monthly-publicity",
   "metadata": {},
   "outputs": [
    {
     "data": {
      "text/plain": [
       "<sqlalchemy.engine.result.ResultProxy at 0x7fa103b196a0>"
      ]
     },
     "execution_count": 5,
     "metadata": {},
     "output_type": "execute_result"
    }
   ],
   "source": [
    "engine.execute(\"CREATE TABLE IF NOT EXISTS flights_cd_d AS SELECT * FROM flights AS f;\")"
   ]
  },
  {
   "cell_type": "code",
   "execution_count": 7,
   "id": "organizational-referral",
   "metadata": {},
   "outputs": [
    {
     "data": {
      "text/plain": [
       "<sqlalchemy.engine.result.ResultProxy at 0x7fa103acbc70>"
      ]
     },
     "execution_count": 7,
     "metadata": {},
     "output_type": "execute_result"
    }
   ],
   "source": [
    "engine.execute(\"DELETE FROM flights_cd_d *;\")"
   ]
  },
  {
   "cell_type": "code",
   "execution_count": 9,
   "id": "demonstrated-camping",
   "metadata": {},
   "outputs": [
    {
     "data": {
      "text/plain": [
       "<sqlalchemy.engine.result.ResultProxy at 0x7fa106214940>"
      ]
     },
     "execution_count": 9,
     "metadata": {},
     "output_type": "execute_result"
    }
   ],
   "source": [
    "engine.execute(\"ALTER TABLE flights_cd_d ADD COLUMN IF NOT EXISTS div1_airport VARCHAR;\")"
   ]
  },
  {
   "cell_type": "code",
   "execution_count": 11,
   "id": "spectacular-vancouver",
   "metadata": {},
   "outputs": [
    {
     "data": {
      "text/plain": [
       "<sqlalchemy.engine.result.ResultProxy at 0x7fa103b731f0>"
      ]
     },
     "execution_count": 11,
     "metadata": {},
     "output_type": "execute_result"
    }
   ],
   "source": [
    "engine.execute(\"ALTER TABLE flights_cd_d ADD COLUMN IF NOT EXISTS cancellation_code VARCHAR;\")"
   ]
  },
  {
   "cell_type": "code",
   "execution_count": 12,
   "id": "bottom-cliff",
   "metadata": {},
   "outputs": [
    {
     "data": {
      "text/plain": [
       "<sqlalchemy.engine.result.ResultProxy at 0x7fa103b195b0>"
      ]
     },
     "execution_count": 12,
     "metadata": {},
     "output_type": "execute_result"
    }
   ],
   "source": [
    "engine.execute(\"ALTER TABLE flights_cd_d ADD COLUMN IF NOT EXISTS weather_delay int;\")"
   ]
  },
  {
   "cell_type": "markdown",
   "id": "secure-tunisia",
   "metadata": {},
   "source": [
    "### Getting Data via CSV Download"
   ]
  },
  {
   "cell_type": "markdown",
   "id": "prepared-version",
   "metadata": {},
   "source": [
    "This is essentially the method of Philipp."
   ]
  },
  {
   "cell_type": "code",
   "execution_count": 16,
   "id": "unknown-engine",
   "metadata": {},
   "outputs": [],
   "source": [
    "def clean_airline_df(df):\n",
    "    '''\n",
    "    Transforms a df made from BTS csv file into a df that is ready to be uploaded to SQL\n",
    "    Set rows=0 for no filtering\n",
    "    '''\n",
    "\n",
    "    # Build dataframe including only the columns you want to keep\n",
    "    df_airline = df.loc[:,columns_to_keep]\n",
    "     \n",
    "    # Clean data types and NULLs\n",
    "    df_airline['Year']= pd.to_numeric(df_airline['Year'], downcast='integer')\n",
    "    df_airline['Month']= pd.to_numeric(df_airline['Month'], downcast='integer')\n",
    "    df_airline['DayofMonth']= pd.to_numeric(df_airline['DayofMonth'], downcast='integer')\n",
    "    df_airline['FlightDate']= pd.to_datetime(df_airline['FlightDate'], yearfirst=True)\n",
    "    df_airline['CRSArrTime']= pd.to_numeric(df_airline['CRSArrTime'], downcast='integer', errors='coerce')\n",
    "    df_airline['Cancelled']= pd.to_numeric(df_airline['Cancelled'], downcast='integer')\n",
    "    df_airline['Diverted']= pd.to_numeric(df_airline['Diverted'], downcast='integer')\n",
    "    df_airline['WeatherDelay']= pd.to_numeric(df_airline['WeatherDelay'], downcast='integer')\n",
    "    \n",
    "    # Rename columns\n",
    "    df_airline.columns = new_column_names\n",
    "    \n",
    "    return df_airline\n",
    "\n",
    "\n",
    "# Specify the airports you are interested in and put them as a list in the function.\n",
    "def select_airport(df, airports):\n",
    "    ''' Helper function for filtering airline df for a subset of airports'''\n",
    "    df_out = df.loc[(df.origin.isin(airports)) | (df.dest.isin(airports))]\n",
    "    return df_out\n",
    "\n",
    "\n",
    "def airline_csv_to_sql(years=[2021], months=[2], path ='data/', table='flights_cd_d', airports=['ICT', 'DFW', 'LIT', 'OKC','ANC']):\n",
    "    '''Downloads and unzips the flight data from BTS'''\n",
    "    \n",
    "    # Establish db connection\n",
    "    params = config(section='postgres')\n",
    "    engine = pg_engine_connection(**params)\n",
    "    engine.dispose()\n",
    "\n",
    "    # Loop through months\n",
    "    for year in years:\n",
    "        for month in months:\n",
    "            # Get the file\n",
    "            zip_file = f'On_Time_Reporting_Carrier_On_Time_Performance_1987_present_{year}_{month}.zip'\n",
    "            csv_file = f'On_Time_Reporting_Carrier_On_Time_Performance_(1987_present)_{year}_{month}.csv'\n",
    "            url = (f'https://transtats.bts.gov/PREZIP/{zip_file}')\n",
    "            arg = f' -P {path} --no-check-certificate'\n",
    "            !wget {url}{arg}\n",
    "            \n",
    "            # unzip\n",
    "            with ZipFile(path+zip_file, 'r') as zip_ref:\n",
    "                zip_ref.extractall(path)\n",
    "            \n",
    "            # prepare df\n",
    "            df_airline = pd.read_csv(path+csv_file, low_memory=False)\n",
    "            df_airline = clean_airline_df(df_airline)\n",
    "            \n",
    "            # Select specific airports \n",
    "            if len(airports) > 0:\n",
    "                df_airline = select_airport(df_airline, airports)\n",
    "\n",
    "            # to SQL\n",
    "            print(f'starting uploading {df_airline.shape[0]} rows from {year}-{month}')\n",
    "            df_airline.to_sql(table, engine, index=False, if_exists=\"append\", \n",
    "                  method='multi', chunksize=5000)\n",
    "            print(f'done uploading {year}-{month}')"
   ]
  },
  {
   "cell_type": "code",
   "execution_count": 17,
   "id": "understanding-wellington",
   "metadata": {},
   "outputs": [
    {
     "data": {
      "text/plain": [
       "[('year',),\n",
       " ('month',),\n",
       " ('day',),\n",
       " ('flightdate',),\n",
       " ('dep_time',),\n",
       " ('sched_dep_time',),\n",
       " ('dep_delay',),\n",
       " ('arr_time',),\n",
       " ('sched_arr_time',),\n",
       " ('arr_delay',),\n",
       " ('carrier',),\n",
       " ('tailnum',),\n",
       " ('flight',),\n",
       " ('origin',),\n",
       " ('dest',),\n",
       " ('air_time',),\n",
       " ('distance',),\n",
       " ('cancelled',),\n",
       " ('diverted',),\n",
       " ('div1_airport',),\n",
       " ('cancellation_code',),\n",
       " ('weather_delay',)]"
      ]
     },
     "execution_count": 17,
     "metadata": {},
     "output_type": "execute_result"
    }
   ],
   "source": [
    "columns_to_keep = [\n",
    "                'Year',\n",
    "                'Month',\n",
    "                'DayofMonth',\n",
    "                'FlightDate',\n",
    "                'DepTime',\n",
    "                'CRSDepTime',\n",
    "                'DepDelay',\n",
    "                'ArrTime',\n",
    "                'CRSArrTime',\n",
    "                'ArrDelay',\n",
    "                'Reporting_Airline',\n",
    "                'Tail_Number',\n",
    "                'Flight_Number_Reporting_Airline',\n",
    "                'Origin',\n",
    "                'Dest',\n",
    "                'AirTime',\n",
    "                'Distance',\n",
    "                'Cancelled',\n",
    "                'Diverted',\n",
    "                'Div1Airport',\n",
    "                'CancellationCode',\n",
    "                'WeatherDelay'\n",
    "]\n",
    "\n",
    "# The columns in the DB have different naming as in the source csv files. Lets get the names from the DB\n",
    "table_name_sql = \"SELECT COLUMN_NAME FROM INFORMATION_SCHEMA.COLUMNS WHERE TABLE_NAME = 'flights_cd' ORDER BY ordinal_position\"\n",
    "c_names = engine.execute(table_name_sql).fetchall()\n",
    "c_names"
   ]
  },
  {
   "cell_type": "code",
   "execution_count": 18,
   "id": "colored-musical",
   "metadata": {},
   "outputs": [
    {
     "data": {
      "text/plain": [
       "['year',\n",
       " 'month',\n",
       " 'day',\n",
       " 'flightdate',\n",
       " 'dep_time',\n",
       " 'sched_dep_time',\n",
       " 'dep_delay',\n",
       " 'arr_time',\n",
       " 'sched_arr_time',\n",
       " 'arr_delay',\n",
       " 'carrier',\n",
       " 'tailnum',\n",
       " 'flight',\n",
       " 'origin',\n",
       " 'dest',\n",
       " 'air_time',\n",
       " 'distance',\n",
       " 'cancelled',\n",
       " 'diverted',\n",
       " 'div1_airport',\n",
       " 'cancellation_code',\n",
       " 'weather_delay']"
      ]
     },
     "execution_count": 18,
     "metadata": {},
     "output_type": "execute_result"
    }
   ],
   "source": [
    "# we can clean up the results into a clean list\n",
    "new_column_names=[]\n",
    "for name in c_names:\n",
    "    new_column_names.append(name[0])\n",
    "new_column_names   "
   ]
  },
  {
   "cell_type": "code",
   "execution_count": 19,
   "id": "existing-intake",
   "metadata": {},
   "outputs": [
    {
     "name": "stdout",
     "output_type": "stream",
     "text": [
      "Postgres Database connection successful\n",
      "--2021-06-06 15:07:09--  https://transtats.bts.gov/PREZIP/On_Time_Reporting_Carrier_On_Time_Performance_1987_present_2021_2.zip\n",
      "Resolving transtats.bts.gov... 204.68.194.70\n",
      "Connecting to transtats.bts.gov|204.68.194.70|:443... connected.\n",
      "WARNING: cannot verify transtats.bts.gov's certificate, issued by 'CN=Entrust Certification Authority - L1K,OU=(c) 2012 Entrust\\\\, Inc. - for authorized use only,OU=See www.entrust.net/legal-terms,O=Entrust\\\\, Inc.,C=US':\n",
      "  Unable to locally verify the issuer's authority.\n",
      "HTTP request sent, awaiting response... 200 OK\n",
      "Length: 16566293 (16M) [application/x-zip-compressed]\n",
      "Saving to: 'data/On_Time_Reporting_Carrier_On_Time_Performance_1987_present_2021_2.zip.18'\n",
      "\n",
      "On_Time_Reporting_C 100%[===================>]  15.80M   348KB/s    in 50s     \n",
      "\n",
      "2021-06-06 15:08:00 (325 KB/s) - 'data/On_Time_Reporting_Carrier_On_Time_Performance_1987_present_2021_2.zip.18' saved [16566293/16566293]\n",
      "\n",
      "starting uploading 41034 rows from 2021-2\n",
      "done uploading 2021-2\n"
     ]
    }
   ],
   "source": [
    "# Marked as a commend for savety.\n",
    "airline_csv_to_sql()"
   ]
  },
  {
   "cell_type": "markdown",
   "id": "coated-carrier",
   "metadata": {},
   "source": [
    "### First Clean up in DBeaver"
   ]
  },
  {
   "cell_type": "code",
   "execution_count": null,
   "id": "young-danger",
   "metadata": {},
   "outputs": [],
   "source": [
    "SELECT f.flightdate,\n",
    "\t f.origin,\n",
    "\t f.dest,\n",
    "\t dep_time_f_utc,\n",
    "\t arr_time_f_utc,\n",
    "\t air_time_f,\n",
    "\t travel_time_utc,\n",
    "\t MAKE_TIMESTAMP(DATE_PART('year', f.flightdate)::Int,\n",
    "\t  \t\t\t\t DATE_PART('month', f.flightdate)::Int,\n",
    "\t  \t\t\t\t DATE_PART('day', f.flightdate)::Int,\n",
    "\t  \t\t\t\t DATE_PART('hour', dep_time_f_utc)::Int,\n",
    "\t  \t\t\t\t DATE_PART('minute', dep_time_f_utc)::Int,\n",
    "\t  \t\t\t\t 0) AS dep_timestamp_utc,\n",
    "\t MAKE_TIMESTAMP(DATE_PART('year', f.flightdate)::Int,\n",
    "\t  \t\t\t\t DATE_PART('month', f.flightdate)::Int,\n",
    "\t  \t\t\t\t DATE_PART('day', f.flightdate)::Int,\n",
    "\t  \t\t\t\t DATE_PART('hour',arr_time_f_utc)::Int,\n",
    "\t  \t\t\t\t DATE_PART('minute', arr_time_f_utc)::Int,\n",
    "\t  \t\t\t\t 0) AS arr_timestamp_utc\n",
    "FROM (SELECT flightdate,\n",
    "\t\t\t origin,\n",
    "\t\tdest,\n",
    "\t\tMAKE_TIME(dep_time/100, MOD(dep_time, 100), 0) - MAKE_INTERVAL(hours => CAST(a.tz AS INT)) AS dep_time_f_utc,\n",
    "\t\tMAKE_TIME(arr_time/100, MOD(arr_time, 100), 0) - MAKE_INTERVAL(hours => CAST(aa.tz AS INT)) AS arr_time_f_utc,\n",
    "\t\tMAKE_INTERVAL(mins => air_time) AS air_time_f,\n",
    "\t\t(MAKE_TIME((arr_time/100), (arr_time%100),0) - MAKE_INTERVAL(hours => CAST(a.tz AS INT))) - (MAKE_TIME((dep_time/100),(dep_time%100),0) - MAKE_INTERVAL(hours => CAST(a.tz AS INT))) AS travel_time_utc\n",
    "\t FROM flights_cd_pro \n",
    "\tLEFT JOIN airports AS a\n",
    "\tON origin = a.faa\n",
    "\tLEFT JOIN airports AS aa \n",
    "\tON dest = aa.faa) AS f;"
   ]
  }
 ],
 "metadata": {
  "kernelspec": {
   "display_name": "Python [conda env:agri_env] *",
   "language": "python",
   "name": "conda-env-agri_env-py"
  },
  "language_info": {
   "codemirror_mode": {
    "name": "ipython",
    "version": 3
   },
   "file_extension": ".py",
   "mimetype": "text/x-python",
   "name": "python",
   "nbconvert_exporter": "python",
   "pygments_lexer": "ipython3",
   "version": "3.8.5"
  }
 },
 "nbformat": 4,
 "nbformat_minor": 5
}
