{
 "cells": [
  {
   "cell_type": "markdown",
   "id": "compressed-former",
   "metadata": {},
   "source": [
    "# The Impact of Agriculture on CO2-Emissions"
   ]
  },
  {
   "cell_type": "markdown",
   "id": "spatial-method",
   "metadata": {},
   "source": [
    "## Setup"
   ]
  },
  {
   "cell_type": "code",
   "execution_count": 1,
   "id": "fluid-virginia",
   "metadata": {},
   "outputs": [],
   "source": [
    "# For EDA and getting Data\n",
    "import pandas as pd\n",
    "\n",
    "# For getting Data into SQL\n",
    "import requests\n",
    "from configdef import *\n",
    "from sqlalchemy import exc #SQLAlchemy provides a nice “Pythonic” way of interacting with databases.\n",
    "from sqlalchemy import event"
   ]
  },
  {
   "cell_type": "code",
   "execution_count": 2,
   "id": "compatible-imperial",
   "metadata": {},
   "outputs": [
    {
     "name": "stdout",
     "output_type": "stream",
     "text": [
      "Postgres Database connection successful\n"
     ]
    }
   ],
   "source": [
    "# Establish db connection\n",
    "\n",
    "# Get connection details from configdef file into a list\n",
    "params = config(section='postgres')\n",
    "\n",
    "# Use sql alchemy to create connection to database, which is contained within the engine object\n",
    "engine = pg_engine_connection(**params)\n",
    "\n",
    "# Cleans up unnecessary database connections\n",
    "engine.dispose()"
   ]
  },
  {
   "cell_type": "markdown",
   "id": "alert-flooring",
   "metadata": {},
   "source": [
    "## ifeu environment foodprint"
   ]
  },
  {
   "cell_type": "code",
   "execution_count": 3,
   "id": "integrated-current",
   "metadata": {},
   "outputs": [
    {
     "ename": "FileNotFoundError",
     "evalue": "[Errno 2] No such file or directory: 'data/ifeu_environment_foodprint.tsv'",
     "output_type": "error",
     "traceback": [
      "\u001b[0;31m---------------------------------------------------------------------------\u001b[0m",
      "\u001b[0;31mFileNotFoundError\u001b[0m                         Traceback (most recent call last)",
      "\u001b[0;32m<ipython-input-3-cf4e9302be25>\u001b[0m in \u001b[0;36m<module>\u001b[0;34m\u001b[0m\n\u001b[0;32m----> 1\u001b[0;31m \u001b[0mdf_foodprint\u001b[0m \u001b[0;34m=\u001b[0m \u001b[0mpd\u001b[0m\u001b[0;34m.\u001b[0m\u001b[0mread_table\u001b[0m\u001b[0;34m(\u001b[0m\u001b[0;34m\"data/ifeu_environment_foodprint.tsv\"\u001b[0m\u001b[0;34m)\u001b[0m\u001b[0;34m\u001b[0m\u001b[0;34m\u001b[0m\u001b[0m\n\u001b[0m",
      "\u001b[0;32m/usr/local/Caskroom/miniconda/base/envs/agri_env/lib/python3.8/site-packages/pandas/io/parsers.py\u001b[0m in \u001b[0;36mread_table\u001b[0;34m(filepath_or_buffer, sep, delimiter, header, names, index_col, usecols, squeeze, prefix, mangle_dupe_cols, dtype, engine, converters, true_values, false_values, skipinitialspace, skiprows, skipfooter, nrows, na_values, keep_default_na, na_filter, verbose, skip_blank_lines, parse_dates, infer_datetime_format, keep_date_col, date_parser, dayfirst, cache_dates, iterator, chunksize, compression, thousands, decimal, lineterminator, quotechar, quoting, doublequote, escapechar, comment, encoding, dialect, error_bad_lines, warn_bad_lines, delim_whitespace, low_memory, memory_map, float_precision)\u001b[0m\n\u001b[1;32m    687\u001b[0m     \u001b[0mkwds\u001b[0m\u001b[0;34m.\u001b[0m\u001b[0mupdate\u001b[0m\u001b[0;34m(\u001b[0m\u001b[0mkwds_defaults\u001b[0m\u001b[0;34m)\u001b[0m\u001b[0;34m\u001b[0m\u001b[0;34m\u001b[0m\u001b[0m\n\u001b[1;32m    688\u001b[0m \u001b[0;34m\u001b[0m\u001b[0m\n\u001b[0;32m--> 689\u001b[0;31m     \u001b[0;32mreturn\u001b[0m \u001b[0m_read\u001b[0m\u001b[0;34m(\u001b[0m\u001b[0mfilepath_or_buffer\u001b[0m\u001b[0;34m,\u001b[0m \u001b[0mkwds\u001b[0m\u001b[0;34m)\u001b[0m\u001b[0;34m\u001b[0m\u001b[0;34m\u001b[0m\u001b[0m\n\u001b[0m\u001b[1;32m    690\u001b[0m \u001b[0;34m\u001b[0m\u001b[0m\n\u001b[1;32m    691\u001b[0m \u001b[0;34m\u001b[0m\u001b[0m\n",
      "\u001b[0;32m/usr/local/Caskroom/miniconda/base/envs/agri_env/lib/python3.8/site-packages/pandas/io/parsers.py\u001b[0m in \u001b[0;36m_read\u001b[0;34m(filepath_or_buffer, kwds)\u001b[0m\n\u001b[1;32m    460\u001b[0m \u001b[0;34m\u001b[0m\u001b[0m\n\u001b[1;32m    461\u001b[0m     \u001b[0;31m# Create the parser.\u001b[0m\u001b[0;34m\u001b[0m\u001b[0;34m\u001b[0m\u001b[0;34m\u001b[0m\u001b[0m\n\u001b[0;32m--> 462\u001b[0;31m     \u001b[0mparser\u001b[0m \u001b[0;34m=\u001b[0m \u001b[0mTextFileReader\u001b[0m\u001b[0;34m(\u001b[0m\u001b[0mfilepath_or_buffer\u001b[0m\u001b[0;34m,\u001b[0m \u001b[0;34m**\u001b[0m\u001b[0mkwds\u001b[0m\u001b[0;34m)\u001b[0m\u001b[0;34m\u001b[0m\u001b[0;34m\u001b[0m\u001b[0m\n\u001b[0m\u001b[1;32m    463\u001b[0m \u001b[0;34m\u001b[0m\u001b[0m\n\u001b[1;32m    464\u001b[0m     \u001b[0;32mif\u001b[0m \u001b[0mchunksize\u001b[0m \u001b[0;32mor\u001b[0m \u001b[0miterator\u001b[0m\u001b[0;34m:\u001b[0m\u001b[0;34m\u001b[0m\u001b[0;34m\u001b[0m\u001b[0m\n",
      "\u001b[0;32m/usr/local/Caskroom/miniconda/base/envs/agri_env/lib/python3.8/site-packages/pandas/io/parsers.py\u001b[0m in \u001b[0;36m__init__\u001b[0;34m(self, f, engine, **kwds)\u001b[0m\n\u001b[1;32m    817\u001b[0m             \u001b[0mself\u001b[0m\u001b[0;34m.\u001b[0m\u001b[0moptions\u001b[0m\u001b[0;34m[\u001b[0m\u001b[0;34m\"has_index_names\"\u001b[0m\u001b[0;34m]\u001b[0m \u001b[0;34m=\u001b[0m \u001b[0mkwds\u001b[0m\u001b[0;34m[\u001b[0m\u001b[0;34m\"has_index_names\"\u001b[0m\u001b[0;34m]\u001b[0m\u001b[0;34m\u001b[0m\u001b[0;34m\u001b[0m\u001b[0m\n\u001b[1;32m    818\u001b[0m \u001b[0;34m\u001b[0m\u001b[0m\n\u001b[0;32m--> 819\u001b[0;31m         \u001b[0mself\u001b[0m\u001b[0;34m.\u001b[0m\u001b[0m_engine\u001b[0m \u001b[0;34m=\u001b[0m \u001b[0mself\u001b[0m\u001b[0;34m.\u001b[0m\u001b[0m_make_engine\u001b[0m\u001b[0;34m(\u001b[0m\u001b[0mself\u001b[0m\u001b[0;34m.\u001b[0m\u001b[0mengine\u001b[0m\u001b[0;34m)\u001b[0m\u001b[0;34m\u001b[0m\u001b[0;34m\u001b[0m\u001b[0m\n\u001b[0m\u001b[1;32m    820\u001b[0m \u001b[0;34m\u001b[0m\u001b[0m\n\u001b[1;32m    821\u001b[0m     \u001b[0;32mdef\u001b[0m \u001b[0mclose\u001b[0m\u001b[0;34m(\u001b[0m\u001b[0mself\u001b[0m\u001b[0;34m)\u001b[0m\u001b[0;34m:\u001b[0m\u001b[0;34m\u001b[0m\u001b[0;34m\u001b[0m\u001b[0m\n",
      "\u001b[0;32m/usr/local/Caskroom/miniconda/base/envs/agri_env/lib/python3.8/site-packages/pandas/io/parsers.py\u001b[0m in \u001b[0;36m_make_engine\u001b[0;34m(self, engine)\u001b[0m\n\u001b[1;32m   1048\u001b[0m             )\n\u001b[1;32m   1049\u001b[0m         \u001b[0;31m# error: Too many arguments for \"ParserBase\"\u001b[0m\u001b[0;34m\u001b[0m\u001b[0;34m\u001b[0m\u001b[0;34m\u001b[0m\u001b[0m\n\u001b[0;32m-> 1050\u001b[0;31m         \u001b[0;32mreturn\u001b[0m \u001b[0mmapping\u001b[0m\u001b[0;34m[\u001b[0m\u001b[0mengine\u001b[0m\u001b[0;34m]\u001b[0m\u001b[0;34m(\u001b[0m\u001b[0mself\u001b[0m\u001b[0;34m.\u001b[0m\u001b[0mf\u001b[0m\u001b[0;34m,\u001b[0m \u001b[0;34m**\u001b[0m\u001b[0mself\u001b[0m\u001b[0;34m.\u001b[0m\u001b[0moptions\u001b[0m\u001b[0;34m)\u001b[0m  \u001b[0;31m# type: ignore[call-arg]\u001b[0m\u001b[0;34m\u001b[0m\u001b[0;34m\u001b[0m\u001b[0m\n\u001b[0m\u001b[1;32m   1051\u001b[0m \u001b[0;34m\u001b[0m\u001b[0m\n\u001b[1;32m   1052\u001b[0m     \u001b[0;32mdef\u001b[0m \u001b[0m_failover_to_python\u001b[0m\u001b[0;34m(\u001b[0m\u001b[0mself\u001b[0m\u001b[0;34m)\u001b[0m\u001b[0;34m:\u001b[0m\u001b[0;34m\u001b[0m\u001b[0;34m\u001b[0m\u001b[0m\n",
      "\u001b[0;32m/usr/local/Caskroom/miniconda/base/envs/agri_env/lib/python3.8/site-packages/pandas/io/parsers.py\u001b[0m in \u001b[0;36m__init__\u001b[0;34m(self, src, **kwds)\u001b[0m\n\u001b[1;32m   1865\u001b[0m \u001b[0;34m\u001b[0m\u001b[0m\n\u001b[1;32m   1866\u001b[0m         \u001b[0;31m# open handles\u001b[0m\u001b[0;34m\u001b[0m\u001b[0;34m\u001b[0m\u001b[0;34m\u001b[0m\u001b[0m\n\u001b[0;32m-> 1867\u001b[0;31m         \u001b[0mself\u001b[0m\u001b[0;34m.\u001b[0m\u001b[0m_open_handles\u001b[0m\u001b[0;34m(\u001b[0m\u001b[0msrc\u001b[0m\u001b[0;34m,\u001b[0m \u001b[0mkwds\u001b[0m\u001b[0;34m)\u001b[0m\u001b[0;34m\u001b[0m\u001b[0;34m\u001b[0m\u001b[0m\n\u001b[0m\u001b[1;32m   1868\u001b[0m         \u001b[0;32massert\u001b[0m \u001b[0mself\u001b[0m\u001b[0;34m.\u001b[0m\u001b[0mhandles\u001b[0m \u001b[0;32mis\u001b[0m \u001b[0;32mnot\u001b[0m \u001b[0;32mNone\u001b[0m\u001b[0;34m\u001b[0m\u001b[0;34m\u001b[0m\u001b[0m\n\u001b[1;32m   1869\u001b[0m         \u001b[0;32mfor\u001b[0m \u001b[0mkey\u001b[0m \u001b[0;32min\u001b[0m \u001b[0;34m(\u001b[0m\u001b[0;34m\"storage_options\"\u001b[0m\u001b[0;34m,\u001b[0m \u001b[0;34m\"encoding\"\u001b[0m\u001b[0;34m,\u001b[0m \u001b[0;34m\"memory_map\"\u001b[0m\u001b[0;34m,\u001b[0m \u001b[0;34m\"compression\"\u001b[0m\u001b[0;34m)\u001b[0m\u001b[0;34m:\u001b[0m\u001b[0;34m\u001b[0m\u001b[0;34m\u001b[0m\u001b[0m\n",
      "\u001b[0;32m/usr/local/Caskroom/miniconda/base/envs/agri_env/lib/python3.8/site-packages/pandas/io/parsers.py\u001b[0m in \u001b[0;36m_open_handles\u001b[0;34m(self, src, kwds)\u001b[0m\n\u001b[1;32m   1360\u001b[0m         \u001b[0mLet\u001b[0m \u001b[0mthe\u001b[0m \u001b[0mreaders\u001b[0m \u001b[0mopen\u001b[0m \u001b[0mIOHanldes\u001b[0m \u001b[0mafter\u001b[0m \u001b[0mthey\u001b[0m \u001b[0mare\u001b[0m \u001b[0mdone\u001b[0m \u001b[0;32mwith\u001b[0m \u001b[0mtheir\u001b[0m \u001b[0mpotential\u001b[0m \u001b[0mraises\u001b[0m\u001b[0;34m.\u001b[0m\u001b[0;34m\u001b[0m\u001b[0;34m\u001b[0m\u001b[0m\n\u001b[1;32m   1361\u001b[0m         \"\"\"\n\u001b[0;32m-> 1362\u001b[0;31m         self.handles = get_handle(\n\u001b[0m\u001b[1;32m   1363\u001b[0m             \u001b[0msrc\u001b[0m\u001b[0;34m,\u001b[0m\u001b[0;34m\u001b[0m\u001b[0;34m\u001b[0m\u001b[0m\n\u001b[1;32m   1364\u001b[0m             \u001b[0;34m\"r\"\u001b[0m\u001b[0;34m,\u001b[0m\u001b[0;34m\u001b[0m\u001b[0;34m\u001b[0m\u001b[0m\n",
      "\u001b[0;32m/usr/local/Caskroom/miniconda/base/envs/agri_env/lib/python3.8/site-packages/pandas/io/common.py\u001b[0m in \u001b[0;36mget_handle\u001b[0;34m(path_or_buf, mode, encoding, compression, memory_map, is_text, errors, storage_options)\u001b[0m\n\u001b[1;32m    640\u001b[0m                 \u001b[0merrors\u001b[0m \u001b[0;34m=\u001b[0m \u001b[0;34m\"replace\"\u001b[0m\u001b[0;34m\u001b[0m\u001b[0;34m\u001b[0m\u001b[0m\n\u001b[1;32m    641\u001b[0m             \u001b[0;31m# Encoding\u001b[0m\u001b[0;34m\u001b[0m\u001b[0;34m\u001b[0m\u001b[0;34m\u001b[0m\u001b[0m\n\u001b[0;32m--> 642\u001b[0;31m             handle = open(\n\u001b[0m\u001b[1;32m    643\u001b[0m                 \u001b[0mhandle\u001b[0m\u001b[0;34m,\u001b[0m\u001b[0;34m\u001b[0m\u001b[0;34m\u001b[0m\u001b[0m\n\u001b[1;32m    644\u001b[0m                 \u001b[0mioargs\u001b[0m\u001b[0;34m.\u001b[0m\u001b[0mmode\u001b[0m\u001b[0;34m,\u001b[0m\u001b[0;34m\u001b[0m\u001b[0;34m\u001b[0m\u001b[0m\n",
      "\u001b[0;31mFileNotFoundError\u001b[0m: [Errno 2] No such file or directory: 'data/ifeu_environment_foodprint.tsv'"
     ]
    }
   ],
   "source": [
    "df_foodprint = pd.read_table(\"data/ifeu_environment_foodprint.tsv\")"
   ]
  },
  {
   "cell_type": "markdown",
   "id": "executive-friendship",
   "metadata": {},
   "source": [
    "### Getting the data into SQL"
   ]
  },
  {
   "cell_type": "code",
   "execution_count": null,
   "id": "bronze-belle",
   "metadata": {},
   "outputs": [],
   "source": [
    "df_foodprint.info()"
   ]
  },
  {
   "cell_type": "code",
   "execution_count": null,
   "id": "capable-grace",
   "metadata": {},
   "outputs": [],
   "source": [
    "# Specify which table within your database you want to push your data to. Here: 'agri_fao_emissions'\n",
    "# If the specified table doesn't exist yet, it will be created\n",
    "# With 'append', your data will be appended to the already existing data within the table.\n",
    "\n",
    "df_foodprint.to_sql('agri_ifeu_foodprint', engine, index=False, if_exists=\"append\", \n",
    "                  method='multi', chunksize=5000)\n",
    "print(f'done uploading')"
   ]
  },
  {
   "cell_type": "markdown",
   "id": "widespread-motion",
   "metadata": {},
   "source": [
    "## FAO - Emissions"
   ]
  },
  {
   "cell_type": "code",
   "execution_count": null,
   "id": "coupled-review",
   "metadata": {},
   "outputs": [],
   "source": [
    "df_emissions = pd.read_csv(\"data/Emissions_Agriculture_Agriculture_total_E_All_Data_(Normalized).csv\")"
   ]
  },
  {
   "cell_type": "code",
   "execution_count": null,
   "id": "designing-intensity",
   "metadata": {},
   "outputs": [],
   "source": [
    "df_emissions.columns"
   ]
  },
  {
   "cell_type": "markdown",
   "id": "labeled-capability",
   "metadata": {},
   "source": [
    "### Clean up the headers"
   ]
  },
  {
   "cell_type": "code",
   "execution_count": null,
   "id": "tough-spank",
   "metadata": {},
   "outputs": [],
   "source": [
    "# make a list column names\n",
    "cols = df_emissions.columns.tolist()\n",
    "# replace space with _\n",
    "cols = [col.replace(' ', '_').lower() for col in cols]\n",
    "# reassign new column names to dataframe\n",
    "df_emissions.columns = cols"
   ]
  },
  {
   "cell_type": "markdown",
   "id": "mobile-latino",
   "metadata": {},
   "source": [
    "### Getting the data into SQL"
   ]
  },
  {
   "cell_type": "code",
   "execution_count": null,
   "id": "political-graduation",
   "metadata": {},
   "outputs": [],
   "source": [
    "df_emissions.info()"
   ]
  },
  {
   "cell_type": "code",
   "execution_count": null,
   "id": "planned-portland",
   "metadata": {},
   "outputs": [],
   "source": [
    "# Specify which table within your database you want to push your data to. Here: 'agri_fao_emissions'\n",
    "# If the specified table doesn't exist yet, it will be created\n",
    "# With 'append', your data will be appended to the already existing data within the table.\n",
    "\n",
    "df_emissions.to_sql('agri_fao_emissions', engine, index=False, if_exists=\"append\", \n",
    "                  method='multi', chunksize=5000)\n",
    "print(f'done uploading')"
   ]
  },
  {
   "cell_type": "markdown",
   "id": "appropriate-increase",
   "metadata": {},
   "source": [
    "## FAO - Definitions and standards"
   ]
  },
  {
   "cell_type": "code",
   "execution_count": null,
   "id": "written-summer",
   "metadata": {},
   "outputs": [],
   "source": [
    "df_def_and_stand = pd.read_csv(\"data/FAOSTAT_data_6-28-2021.csv\")"
   ]
  },
  {
   "cell_type": "code",
   "execution_count": null,
   "id": "smart-white",
   "metadata": {},
   "outputs": [],
   "source": [
    "df_def_and_stand.columns"
   ]
  },
  {
   "cell_type": "markdown",
   "id": "sporting-sierra",
   "metadata": {},
   "source": [
    "### Clean up the headers"
   ]
  },
  {
   "cell_type": "code",
   "execution_count": null,
   "id": "neural-mauritius",
   "metadata": {},
   "outputs": [],
   "source": [
    "# make a list column names\n",
    "cols = df_def_and_stand.columns.tolist()\n",
    "# replace space with _\n",
    "cols = [col.replace(' ', '_').lower() for col in cols]\n",
    "# reassign new column names to dataframe\n",
    "df_def_and_stand.columns = cols"
   ]
  },
  {
   "cell_type": "markdown",
   "id": "uniform-raleigh",
   "metadata": {},
   "source": [
    "### Getting the data into SQL"
   ]
  },
  {
   "cell_type": "code",
   "execution_count": null,
   "id": "moved-yugoslavia",
   "metadata": {},
   "outputs": [],
   "source": [
    "df_def_and_stand.info()"
   ]
  },
  {
   "cell_type": "code",
   "execution_count": null,
   "id": "exceptional-click",
   "metadata": {},
   "outputs": [],
   "source": [
    "# Specify which table within your database you want to push your data to. Here: 'agri_fao_definitions'\n",
    "# If the specified table doesn't exist yet, it will be created\n",
    "# With 'append', your data will be appended to the already existing data within the table.\n",
    "\n",
    "df_def_and_stand.to_sql('agri_fao_definition', engine, index=False, if_exists=\"append\", \n",
    "                  method='multi', chunksize=5000)\n",
    "print(f'done uploading')"
   ]
  },
  {
   "cell_type": "markdown",
   "id": "13d4f2a8-f76c-4080-9bc4-12066d10a107",
   "metadata": {},
   "source": [
    "## FAO Food Consumption"
   ]
  },
  {
   "cell_type": "code",
   "execution_count": 4,
   "id": "d70c39ee-4176-4ea8-8988-a21500004ba1",
   "metadata": {},
   "outputs": [],
   "source": [
    "df_consumption = pd.read_csv(\"data/fao_food_balance_sheets.csv\")"
   ]
  },
  {
   "cell_type": "code",
   "execution_count": 5,
   "id": "a73e96c4-07f3-4822-a95d-4430ebe9b1c3",
   "metadata": {},
   "outputs": [
    {
     "name": "stdout",
     "output_type": "stream",
     "text": [
      "<class 'pandas.core.frame.DataFrame'>\n",
      "RangeIndex: 1439391 entries, 0 to 1439390\n",
      "Data columns (total 11 columns):\n",
      " #   Column        Non-Null Count    Dtype  \n",
      "---  ------        --------------    -----  \n",
      " 0   Area Code     1439391 non-null  int64  \n",
      " 1   Area          1439391 non-null  object \n",
      " 2   Item Code     1439391 non-null  int64  \n",
      " 3   Item          1439391 non-null  object \n",
      " 4   Element Code  1439391 non-null  int64  \n",
      " 5   Element       1439391 non-null  object \n",
      " 6   Year Code     1439391 non-null  int64  \n",
      " 7   Year          1439391 non-null  int64  \n",
      " 8   Unit          1439391 non-null  object \n",
      " 9   Value         1439391 non-null  float64\n",
      " 10  Flag          1439391 non-null  object \n",
      "dtypes: float64(1), int64(5), object(5)\n",
      "memory usage: 120.8+ MB\n"
     ]
    }
   ],
   "source": [
    "df_consumption.info()"
   ]
  },
  {
   "cell_type": "code",
   "execution_count": 6,
   "id": "aad860e3-94dc-49bb-9336-ad163f5b02be",
   "metadata": {},
   "outputs": [
    {
     "data": {
      "text/plain": [
       "Index(['Area Code', 'Area', 'Item Code', 'Item', 'Element Code', 'Element',\n",
       "       'Year Code', 'Year', 'Unit', 'Value', 'Flag'],\n",
       "      dtype='object')"
      ]
     },
     "execution_count": 6,
     "metadata": {},
     "output_type": "execute_result"
    }
   ],
   "source": [
    "df_consumption.columns"
   ]
  },
  {
   "cell_type": "code",
   "execution_count": 7,
   "id": "de14e6fb-ac15-48a5-ac10-35f79550fb24",
   "metadata": {},
   "outputs": [
    {
     "data": {
      "text/plain": [
       "array(['Population', 'Grand Total', 'Vegetal Products', 'Animal Products',\n",
       "       'Cereals - Excluding Beer', 'Wheat and products',\n",
       "       'Rice and products', 'Barley and products', 'Maize and products',\n",
       "       'Rye and products', 'Oats', 'Millet and products',\n",
       "       'Sorghum and products', 'Cereals, Other', 'Starchy Roots',\n",
       "       'Cassava and products', 'Potatoes and products', 'Sweet potatoes',\n",
       "       'Yams', 'Roots, Other', 'Sugar Crops', 'Sugar cane', 'Sugar beet',\n",
       "       'Sugar & Sweeteners', 'Sugar non-centrifugal',\n",
       "       'Sugar (Raw Equivalent)', 'Sweeteners, Other', 'Honey', 'Pulses',\n",
       "       'Beans', 'Peas', 'Pulses, Other and products', 'Treenuts',\n",
       "       'Nuts and products', 'Oilcrops', 'Soyabeans', 'Groundnuts',\n",
       "       'Sunflower seed', 'Rape and Mustardseed', 'Cottonseed',\n",
       "       'Coconuts - Incl Copra', 'Sesame seed', 'Palm kernels',\n",
       "       'Olives (including preserved)', 'Oilcrops, Other',\n",
       "       'Vegetable Oils', 'Soyabean Oil', 'Groundnut Oil',\n",
       "       'Sunflowerseed Oil', 'Rape and Mustard Oil', 'Cottonseed Oil',\n",
       "       'Palmkernel Oil', 'Palm Oil', 'Coconut Oil', 'Sesameseed Oil',\n",
       "       'Olive Oil', 'Ricebran Oil', 'Maize Germ Oil',\n",
       "       'Oilcrops Oil, Other', 'Vegetables', 'Tomatoes and products',\n",
       "       'Onions', 'Vegetables, Other', 'Fruits - Excluding Wine',\n",
       "       'Oranges, Mandarines', 'Lemons, Limes and products',\n",
       "       'Grapefruit and products', 'Citrus, Other', 'Bananas', 'Plantains',\n",
       "       'Apples and products', 'Pineapples and products', 'Dates',\n",
       "       'Grapes and products (excl wine)', 'Fruits, Other', 'Stimulants',\n",
       "       'Coffee and products', 'Cocoa Beans and products',\n",
       "       'Tea (including mate)', 'Spices', 'Pepper', 'Pimento', 'Cloves',\n",
       "       'Spices, Other', 'Alcoholic Beverages', 'Wine', 'Beer',\n",
       "       'Beverages, Fermented', 'Beverages, Alcoholic',\n",
       "       'Alcohol, Non-Food', 'Meat', 'Bovine Meat', 'Mutton & Goat Meat',\n",
       "       'Pigmeat', 'Poultry Meat', 'Meat, Other', 'Offals',\n",
       "       'Offals, Edible', 'Animal fats', 'Butter, Ghee', 'Cream',\n",
       "       'Fats, Animals, Raw', 'Eggs', 'Milk - Excluding Butter',\n",
       "       'Fish, Seafood', 'Freshwater Fish', 'Miscellaneous', 'Infant food',\n",
       "       'Fish, Body Oil', 'Fish, Liver Oil', 'Demersal Fish',\n",
       "       'Pelagic Fish', 'Marine Fish, Other', 'Crustaceans', 'Cephalopods',\n",
       "       'Molluscs, Other', 'Aquatic Products, Other',\n",
       "       'Aquatic Animals, Others', 'Aquatic Plants',\n",
       "       'Meat, Aquatic Mammals'], dtype=object)"
      ]
     },
     "execution_count": 7,
     "metadata": {},
     "output_type": "execute_result"
    }
   ],
   "source": [
    "df_consumption['Item'].unique()"
   ]
  },
  {
   "cell_type": "code",
   "execution_count": 8,
   "id": "959e952d-f7aa-42e1-83aa-54e60bf219cb",
   "metadata": {},
   "outputs": [
    {
     "data": {
      "text/plain": [
       "array([2501, 2901, 2903, 2941, 2905, 2511, 2807, 2513, 2514, 2515, 2516,\n",
       "       2517, 2518, 2520, 2907, 2532, 2531, 2533, 2535, 2534, 2908, 2536,\n",
       "       2537, 2909, 2541, 2542, 2543, 2745, 2911, 2546, 2547, 2549, 2912,\n",
       "       2551, 2913, 2555, 2552, 2557, 2558, 2559, 2560, 2561, 2562, 2563,\n",
       "       2570, 2914, 2571, 2572, 2573, 2574, 2575, 2576, 2577, 2578, 2579,\n",
       "       2580, 2581, 2582, 2586, 2918, 2601, 2602, 2605, 2919, 2611, 2612,\n",
       "       2613, 2614, 2615, 2616, 2617, 2618, 2619, 2620, 2625, 2922, 2630,\n",
       "       2633, 2635, 2923, 2640, 2641, 2642, 2645, 2924, 2655, 2656, 2657,\n",
       "       2658, 2659, 2943, 2731, 2732, 2733, 2734, 2735, 2945, 2736, 2946,\n",
       "       2740, 2743, 2737, 2949, 2744, 2948, 2848, 2960, 2761, 2928, 2680,\n",
       "       2899, 2781, 2782, 2762, 2763, 2764, 2765, 2766, 2767, 2961, 2769,\n",
       "       2775, 2768])"
      ]
     },
     "execution_count": 8,
     "metadata": {},
     "output_type": "execute_result"
    }
   ],
   "source": [
    "df_consumption['Item Code'].unique()"
   ]
  },
  {
   "cell_type": "markdown",
   "id": "c8e65e2c-7b58-469e-accd-cf84ca9b0a99",
   "metadata": {},
   "source": [
    "### Cleaning up the headers"
   ]
  },
  {
   "cell_type": "code",
   "execution_count": 10,
   "id": "e264d145-4391-41b0-8510-c5af2cc5f5c8",
   "metadata": {},
   "outputs": [],
   "source": [
    "# make a list column names\n",
    "cols = df_consumption.columns.tolist()\n",
    "# replace space with _\n",
    "cols = [col.replace(' ', '_').lower() for col in cols]\n",
    "# reassign new column names to dataframe\n",
    "df_consumption.columns = cols"
   ]
  },
  {
   "cell_type": "markdown",
   "id": "c77c9a54-147c-4e26-8d09-6c94c7835afa",
   "metadata": {},
   "source": [
    "### Uploading the data to the database"
   ]
  },
  {
   "cell_type": "code",
   "execution_count": null,
   "id": "f9397087-e7dc-4cc5-985b-c89786c0f354",
   "metadata": {},
   "outputs": [],
   "source": [
    "# Specify which table within your database you want to push your data to. Here: 'agri_fao_definitions'\n",
    "# If the specified table doesn't exist yet, it will be created\n",
    "# With 'append', your data will be appended to the already existing data within the table.\n",
    "\n",
    "df_consumption.to_sql('agri_fao_consumption', engine, index=False, if_exists=\"append\", \n",
    "                  method='multi', chunksize=5000)\n",
    "print(f'done uploading')"
   ]
  },
  {
   "cell_type": "markdown",
   "id": "bcae460d-bcfa-4fa1-8960-8ee77d6b1b34",
   "metadata": {},
   "source": [
    "## UN World Population"
   ]
  },
  {
   "cell_type": "code",
   "execution_count": 14,
   "id": "7f182ecf-3d95-40bb-826b-5e54dd29034d",
   "metadata": {},
   "outputs": [],
   "source": [
    "df_population = pd.read_csv(\"data/un_world_population.csv\")"
   ]
  },
  {
   "cell_type": "code",
   "execution_count": 15,
   "id": "15b0082d-33a5-40fd-9e6b-00b258a91055",
   "metadata": {},
   "outputs": [
    {
     "name": "stdout",
     "output_type": "stream",
     "text": [
      "<class 'pandas.core.frame.DataFrame'>\n",
      "RangeIndex: 280932 entries, 0 to 280931\n",
      "Data columns (total 10 columns):\n",
      " #   Column      Non-Null Count   Dtype  \n",
      "---  ------      --------------   -----  \n",
      " 0   LocID       280932 non-null  int64  \n",
      " 1   Location    280932 non-null  object \n",
      " 2   VarID       280932 non-null  int64  \n",
      " 3   Variant     280932 non-null  object \n",
      " 4   Time        280932 non-null  int64  \n",
      " 5   MidPeriod   280932 non-null  float64\n",
      " 6   PopMale     250876 non-null  float64\n",
      " 7   PopFemale   250876 non-null  float64\n",
      " 8   PopTotal    280932 non-null  float64\n",
      " 9   PopDensity  280932 non-null  float64\n",
      "dtypes: float64(5), int64(3), object(2)\n",
      "memory usage: 21.4+ MB\n"
     ]
    }
   ],
   "source": [
    "df_population.info()"
   ]
  },
  {
   "cell_type": "markdown",
   "id": "3004d44d-fe8a-40d9-861f-c9515f34a11d",
   "metadata": {},
   "source": [
    "### Cleaning up the headers"
   ]
  },
  {
   "cell_type": "code",
   "execution_count": 16,
   "id": "8b04fbd6-1fb5-4afc-82c8-5775cedfbaf2",
   "metadata": {},
   "outputs": [],
   "source": [
    "# make a list column names\n",
    "cols = df_population.columns.tolist()\n",
    "# replace space with _\n",
    "cols = [col.replace(' ', '_').lower() for col in cols]\n",
    "# reassign new column names to dataframe\n",
    "df_population.columns = cols"
   ]
  },
  {
   "cell_type": "markdown",
   "id": "80ac888d-a4ad-48df-9523-6a9c311c015a",
   "metadata": {},
   "source": [
    "### Uploading the data to the database"
   ]
  },
  {
   "cell_type": "code",
   "execution_count": null,
   "id": "118cd320-55c4-4a36-8044-cf1271bfc9b2",
   "metadata": {},
   "outputs": [],
   "source": [
    "# Specify which table within your database you want to push your data to. Here: 'agri_fao_definitions'\n",
    "# If the specified table doesn't exist yet, it will be created\n",
    "# With 'append', your data will be appended to the already existing data within the table.\n",
    "\n",
    "df_population.to_sql('agri_fao_consumption', engine, index=False, if_exists=\"append\", \n",
    "                  method='multi', chunksize=5000)\n",
    "print(f'done uploading')"
   ]
  }
 ],
 "metadata": {
  "kernelspec": {
   "display_name": "Python [conda env:agri_env] *",
   "language": "python",
   "name": "conda-env-agri_env-py"
  },
  "language_info": {
   "codemirror_mode": {
    "name": "ipython",
    "version": 3
   },
   "file_extension": ".py",
   "mimetype": "text/x-python",
   "name": "python",
   "nbconvert_exporter": "python",
   "pygments_lexer": "ipython3",
   "version": "3.8.5"
  }
 },
 "nbformat": 4,
 "nbformat_minor": 5
}
